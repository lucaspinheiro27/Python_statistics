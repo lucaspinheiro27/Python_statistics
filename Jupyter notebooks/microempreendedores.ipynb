{
  "nbformat": 4,
  "nbformat_minor": 0,
  "metadata": {
    "colab": {
      "provenance": [],
      "authorship_tag": "ABX9TyMi1H0Z5+sDEaws4GQWhXrZ",
      "include_colab_link": true
    },
    "kernelspec": {
      "name": "python3",
      "display_name": "Python 3"
    },
    "language_info": {
      "name": "python"
    }
  },
  "cells": [
    {
      "cell_type": "markdown",
      "metadata": {
        "id": "view-in-github",
        "colab_type": "text"
      },
      "source": [
        "<a href=\"https://colab.research.google.com/github/lucaspinheiro27/Python_statistics/blob/main/Jupyter%20notebooks/microempreendedores.ipynb\" target=\"_parent\"><img src=\"https://colab.research.google.com/assets/colab-badge.svg\" alt=\"Open In Colab\"/></a>"
      ]
    },
    {
      "cell_type": "markdown",
      "source": [
        "* The data set can be found through this website:\n",
        "* https://www.ibge.gov.br/estatisticas/multidominio/empreendedorismo/38014-estatisticas-dos-cadastros-de-microempreendedores-individuais.html\n",
        "* It contains the registries for Brazilian micro-entrepreneurs."
      ],
      "metadata": {
        "id": "Fi1RHotNkaLd"
      }
    },
    {
      "cell_type": "code",
      "execution_count": 1,
      "metadata": {
        "id": "l1emDQnzOV6X"
      },
      "outputs": [],
      "source": [
        "import pandas as pd\n",
        "import numpy as np\n",
        "from scipy.stats import trim_mean\n",
        "!pip install wquantiles -q\n",
        "import wquantiles\n",
        "from statsmodels import robust\n",
        "import matplotlib.pyplot as plt\n",
        "import seaborn as sns"
      ]
    },
    {
      "cell_type": "code",
      "source": [
        "classe = pd.read_csv(\"/content/microempreendedores.csv\", encoding='latin-1', sep=';')\n",
        "classe"
      ],
      "metadata": {
        "colab": {
          "base_uri": "https://localhost:8080/",
          "height": 551
        },
        "id": "9Gp-xjYNQRQk",
        "outputId": "fd1717e3-dc9a-4d95-caf9-58948acda4d6"
      },
      "execution_count": 2,
      "outputs": [
        {
          "output_type": "execute_result",
          "data": {
            "text/plain": [
              "                                    Classes CNAE 2.0     Absoluto Relativo (%)\n",
              "0   Cabeleireiros e outras atividades de tratament...   1 304 187          9,0\n",
              "1                     Atividades de malote de entrega     289 160          2,0\n",
              "2   Atividades de publicidade não especificadas an...     617 753          4,2\n",
              "3   Serviços especializados para construção não es...     669 276          4,6\n",
              "4                                 Obras de acabamento     315 284          2,2\n",
              "5   Fotocópias, preparação de documentos e outros ...     321 110          2,2\n",
              "6   Serviços de catering, bufê e outros serviços d...     500 092          3,4\n",
              "7      Manutenção e reparação de veículos automotores     454 407          3,1\n",
              "8   Comércio varejista de artigos do vestuário e a...     990 379          6,8\n",
              "9   Atividades de ensino não especificadas anterio...     452 092          3,1\n",
              "10  Comércio varejista de outros produtos novos nã...     335 707          2,3\n",
              "11  Confecção de peças de vestuário, exceto roupas...     277 805          1,9\n",
              "12  Restaurantes e outros estabelecimentos de serv...     876 004          6,0\n",
              "13  Comércio varejista de mercadorias em geral, co...     304 857          2,1\n",
              "14                     Transporte rodoviário de carga     420 668          2,9\n",
              "15                                             Outros   6 438 872         44,2"
            ],
            "text/html": [
              "\n",
              "  <div id=\"df-09c845c7-9ae6-4cdb-9e59-b50db8c9de6f\" class=\"colab-df-container\">\n",
              "    <div>\n",
              "<style scoped>\n",
              "    .dataframe tbody tr th:only-of-type {\n",
              "        vertical-align: middle;\n",
              "    }\n",
              "\n",
              "    .dataframe tbody tr th {\n",
              "        vertical-align: top;\n",
              "    }\n",
              "\n",
              "    .dataframe thead th {\n",
              "        text-align: right;\n",
              "    }\n",
              "</style>\n",
              "<table border=\"1\" class=\"dataframe\">\n",
              "  <thead>\n",
              "    <tr style=\"text-align: right;\">\n",
              "      <th></th>\n",
              "      <th>Classes CNAE 2.0</th>\n",
              "      <th>Absoluto</th>\n",
              "      <th>Relativo (%)</th>\n",
              "    </tr>\n",
              "  </thead>\n",
              "  <tbody>\n",
              "    <tr>\n",
              "      <th>0</th>\n",
              "      <td>Cabeleireiros e outras atividades de tratament...</td>\n",
              "      <td>1 304 187</td>\n",
              "      <td>9,0</td>\n",
              "    </tr>\n",
              "    <tr>\n",
              "      <th>1</th>\n",
              "      <td>Atividades de malote de entrega</td>\n",
              "      <td>289 160</td>\n",
              "      <td>2,0</td>\n",
              "    </tr>\n",
              "    <tr>\n",
              "      <th>2</th>\n",
              "      <td>Atividades de publicidade não especificadas an...</td>\n",
              "      <td>617 753</td>\n",
              "      <td>4,2</td>\n",
              "    </tr>\n",
              "    <tr>\n",
              "      <th>3</th>\n",
              "      <td>Serviços especializados para construção não es...</td>\n",
              "      <td>669 276</td>\n",
              "      <td>4,6</td>\n",
              "    </tr>\n",
              "    <tr>\n",
              "      <th>4</th>\n",
              "      <td>Obras de acabamento</td>\n",
              "      <td>315 284</td>\n",
              "      <td>2,2</td>\n",
              "    </tr>\n",
              "    <tr>\n",
              "      <th>5</th>\n",
              "      <td>Fotocópias, preparação de documentos e outros ...</td>\n",
              "      <td>321 110</td>\n",
              "      <td>2,2</td>\n",
              "    </tr>\n",
              "    <tr>\n",
              "      <th>6</th>\n",
              "      <td>Serviços de catering, bufê e outros serviços d...</td>\n",
              "      <td>500 092</td>\n",
              "      <td>3,4</td>\n",
              "    </tr>\n",
              "    <tr>\n",
              "      <th>7</th>\n",
              "      <td>Manutenção e reparação de veículos automotores</td>\n",
              "      <td>454 407</td>\n",
              "      <td>3,1</td>\n",
              "    </tr>\n",
              "    <tr>\n",
              "      <th>8</th>\n",
              "      <td>Comércio varejista de artigos do vestuário e a...</td>\n",
              "      <td>990 379</td>\n",
              "      <td>6,8</td>\n",
              "    </tr>\n",
              "    <tr>\n",
              "      <th>9</th>\n",
              "      <td>Atividades de ensino não especificadas anterio...</td>\n",
              "      <td>452 092</td>\n",
              "      <td>3,1</td>\n",
              "    </tr>\n",
              "    <tr>\n",
              "      <th>10</th>\n",
              "      <td>Comércio varejista de outros produtos novos nã...</td>\n",
              "      <td>335 707</td>\n",
              "      <td>2,3</td>\n",
              "    </tr>\n",
              "    <tr>\n",
              "      <th>11</th>\n",
              "      <td>Confecção de peças de vestuário, exceto roupas...</td>\n",
              "      <td>277 805</td>\n",
              "      <td>1,9</td>\n",
              "    </tr>\n",
              "    <tr>\n",
              "      <th>12</th>\n",
              "      <td>Restaurantes e outros estabelecimentos de serv...</td>\n",
              "      <td>876 004</td>\n",
              "      <td>6,0</td>\n",
              "    </tr>\n",
              "    <tr>\n",
              "      <th>13</th>\n",
              "      <td>Comércio varejista de mercadorias em geral, co...</td>\n",
              "      <td>304 857</td>\n",
              "      <td>2,1</td>\n",
              "    </tr>\n",
              "    <tr>\n",
              "      <th>14</th>\n",
              "      <td>Transporte rodoviário de carga</td>\n",
              "      <td>420 668</td>\n",
              "      <td>2,9</td>\n",
              "    </tr>\n",
              "    <tr>\n",
              "      <th>15</th>\n",
              "      <td>Outros</td>\n",
              "      <td>6 438 872</td>\n",
              "      <td>44,2</td>\n",
              "    </tr>\n",
              "  </tbody>\n",
              "</table>\n",
              "</div>\n",
              "    <div class=\"colab-df-buttons\">\n",
              "\n",
              "  <div class=\"colab-df-container\">\n",
              "    <button class=\"colab-df-convert\" onclick=\"convertToInteractive('df-09c845c7-9ae6-4cdb-9e59-b50db8c9de6f')\"\n",
              "            title=\"Convert this dataframe to an interactive table.\"\n",
              "            style=\"display:none;\">\n",
              "\n",
              "  <svg xmlns=\"http://www.w3.org/2000/svg\" height=\"24px\" viewBox=\"0 -960 960 960\">\n",
              "    <path d=\"M120-120v-720h720v720H120Zm60-500h600v-160H180v160Zm220 220h160v-160H400v160Zm0 220h160v-160H400v160ZM180-400h160v-160H180v160Zm440 0h160v-160H620v160ZM180-180h160v-160H180v160Zm440 0h160v-160H620v160Z\"/>\n",
              "  </svg>\n",
              "    </button>\n",
              "\n",
              "  <style>\n",
              "    .colab-df-container {\n",
              "      display:flex;\n",
              "      gap: 12px;\n",
              "    }\n",
              "\n",
              "    .colab-df-convert {\n",
              "      background-color: #E8F0FE;\n",
              "      border: none;\n",
              "      border-radius: 50%;\n",
              "      cursor: pointer;\n",
              "      display: none;\n",
              "      fill: #1967D2;\n",
              "      height: 32px;\n",
              "      padding: 0 0 0 0;\n",
              "      width: 32px;\n",
              "    }\n",
              "\n",
              "    .colab-df-convert:hover {\n",
              "      background-color: #E2EBFA;\n",
              "      box-shadow: 0px 1px 2px rgba(60, 64, 67, 0.3), 0px 1px 3px 1px rgba(60, 64, 67, 0.15);\n",
              "      fill: #174EA6;\n",
              "    }\n",
              "\n",
              "    .colab-df-buttons div {\n",
              "      margin-bottom: 4px;\n",
              "    }\n",
              "\n",
              "    [theme=dark] .colab-df-convert {\n",
              "      background-color: #3B4455;\n",
              "      fill: #D2E3FC;\n",
              "    }\n",
              "\n",
              "    [theme=dark] .colab-df-convert:hover {\n",
              "      background-color: #434B5C;\n",
              "      box-shadow: 0px 1px 3px 1px rgba(0, 0, 0, 0.15);\n",
              "      filter: drop-shadow(0px 1px 2px rgba(0, 0, 0, 0.3));\n",
              "      fill: #FFFFFF;\n",
              "    }\n",
              "  </style>\n",
              "\n",
              "    <script>\n",
              "      const buttonEl =\n",
              "        document.querySelector('#df-09c845c7-9ae6-4cdb-9e59-b50db8c9de6f button.colab-df-convert');\n",
              "      buttonEl.style.display =\n",
              "        google.colab.kernel.accessAllowed ? 'block' : 'none';\n",
              "\n",
              "      async function convertToInteractive(key) {\n",
              "        const element = document.querySelector('#df-09c845c7-9ae6-4cdb-9e59-b50db8c9de6f');\n",
              "        const dataTable =\n",
              "          await google.colab.kernel.invokeFunction('convertToInteractive',\n",
              "                                                    [key], {});\n",
              "        if (!dataTable) return;\n",
              "\n",
              "        const docLinkHtml = 'Like what you see? Visit the ' +\n",
              "          '<a target=\"_blank\" href=https://colab.research.google.com/notebooks/data_table.ipynb>data table notebook</a>'\n",
              "          + ' to learn more about interactive tables.';\n",
              "        element.innerHTML = '';\n",
              "        dataTable['output_type'] = 'display_data';\n",
              "        await google.colab.output.renderOutput(dataTable, element);\n",
              "        const docLink = document.createElement('div');\n",
              "        docLink.innerHTML = docLinkHtml;\n",
              "        element.appendChild(docLink);\n",
              "      }\n",
              "    </script>\n",
              "  </div>\n",
              "\n",
              "\n",
              "<div id=\"df-7350be61-caf8-438c-a65b-d8227de8f9be\">\n",
              "  <button class=\"colab-df-quickchart\" onclick=\"quickchart('df-7350be61-caf8-438c-a65b-d8227de8f9be')\"\n",
              "            title=\"Suggest charts\"\n",
              "            style=\"display:none;\">\n",
              "\n",
              "<svg xmlns=\"http://www.w3.org/2000/svg\" height=\"24px\"viewBox=\"0 0 24 24\"\n",
              "     width=\"24px\">\n",
              "    <g>\n",
              "        <path d=\"M19 3H5c-1.1 0-2 .9-2 2v14c0 1.1.9 2 2 2h14c1.1 0 2-.9 2-2V5c0-1.1-.9-2-2-2zM9 17H7v-7h2v7zm4 0h-2V7h2v10zm4 0h-2v-4h2v4z\"/>\n",
              "    </g>\n",
              "</svg>\n",
              "  </button>\n",
              "\n",
              "<style>\n",
              "  .colab-df-quickchart {\n",
              "      --bg-color: #E8F0FE;\n",
              "      --fill-color: #1967D2;\n",
              "      --hover-bg-color: #E2EBFA;\n",
              "      --hover-fill-color: #174EA6;\n",
              "      --disabled-fill-color: #AAA;\n",
              "      --disabled-bg-color: #DDD;\n",
              "  }\n",
              "\n",
              "  [theme=dark] .colab-df-quickchart {\n",
              "      --bg-color: #3B4455;\n",
              "      --fill-color: #D2E3FC;\n",
              "      --hover-bg-color: #434B5C;\n",
              "      --hover-fill-color: #FFFFFF;\n",
              "      --disabled-bg-color: #3B4455;\n",
              "      --disabled-fill-color: #666;\n",
              "  }\n",
              "\n",
              "  .colab-df-quickchart {\n",
              "    background-color: var(--bg-color);\n",
              "    border: none;\n",
              "    border-radius: 50%;\n",
              "    cursor: pointer;\n",
              "    display: none;\n",
              "    fill: var(--fill-color);\n",
              "    height: 32px;\n",
              "    padding: 0;\n",
              "    width: 32px;\n",
              "  }\n",
              "\n",
              "  .colab-df-quickchart:hover {\n",
              "    background-color: var(--hover-bg-color);\n",
              "    box-shadow: 0 1px 2px rgba(60, 64, 67, 0.3), 0 1px 3px 1px rgba(60, 64, 67, 0.15);\n",
              "    fill: var(--button-hover-fill-color);\n",
              "  }\n",
              "\n",
              "  .colab-df-quickchart-complete:disabled,\n",
              "  .colab-df-quickchart-complete:disabled:hover {\n",
              "    background-color: var(--disabled-bg-color);\n",
              "    fill: var(--disabled-fill-color);\n",
              "    box-shadow: none;\n",
              "  }\n",
              "\n",
              "  .colab-df-spinner {\n",
              "    border: 2px solid var(--fill-color);\n",
              "    border-color: transparent;\n",
              "    border-bottom-color: var(--fill-color);\n",
              "    animation:\n",
              "      spin 1s steps(1) infinite;\n",
              "  }\n",
              "\n",
              "  @keyframes spin {\n",
              "    0% {\n",
              "      border-color: transparent;\n",
              "      border-bottom-color: var(--fill-color);\n",
              "      border-left-color: var(--fill-color);\n",
              "    }\n",
              "    20% {\n",
              "      border-color: transparent;\n",
              "      border-left-color: var(--fill-color);\n",
              "      border-top-color: var(--fill-color);\n",
              "    }\n",
              "    30% {\n",
              "      border-color: transparent;\n",
              "      border-left-color: var(--fill-color);\n",
              "      border-top-color: var(--fill-color);\n",
              "      border-right-color: var(--fill-color);\n",
              "    }\n",
              "    40% {\n",
              "      border-color: transparent;\n",
              "      border-right-color: var(--fill-color);\n",
              "      border-top-color: var(--fill-color);\n",
              "    }\n",
              "    60% {\n",
              "      border-color: transparent;\n",
              "      border-right-color: var(--fill-color);\n",
              "    }\n",
              "    80% {\n",
              "      border-color: transparent;\n",
              "      border-right-color: var(--fill-color);\n",
              "      border-bottom-color: var(--fill-color);\n",
              "    }\n",
              "    90% {\n",
              "      border-color: transparent;\n",
              "      border-bottom-color: var(--fill-color);\n",
              "    }\n",
              "  }\n",
              "</style>\n",
              "\n",
              "  <script>\n",
              "    async function quickchart(key) {\n",
              "      const quickchartButtonEl =\n",
              "        document.querySelector('#' + key + ' button');\n",
              "      quickchartButtonEl.disabled = true;  // To prevent multiple clicks.\n",
              "      quickchartButtonEl.classList.add('colab-df-spinner');\n",
              "      try {\n",
              "        const charts = await google.colab.kernel.invokeFunction(\n",
              "            'suggestCharts', [key], {});\n",
              "      } catch (error) {\n",
              "        console.error('Error during call to suggestCharts:', error);\n",
              "      }\n",
              "      quickchartButtonEl.classList.remove('colab-df-spinner');\n",
              "      quickchartButtonEl.classList.add('colab-df-quickchart-complete');\n",
              "    }\n",
              "    (() => {\n",
              "      let quickchartButtonEl =\n",
              "        document.querySelector('#df-7350be61-caf8-438c-a65b-d8227de8f9be button');\n",
              "      quickchartButtonEl.style.display =\n",
              "        google.colab.kernel.accessAllowed ? 'block' : 'none';\n",
              "    })();\n",
              "  </script>\n",
              "</div>\n",
              "\n",
              "  <div id=\"id_d9d63a57-36da-4ede-95eb-dd53661f052b\">\n",
              "    <style>\n",
              "      .colab-df-generate {\n",
              "        background-color: #E8F0FE;\n",
              "        border: none;\n",
              "        border-radius: 50%;\n",
              "        cursor: pointer;\n",
              "        display: none;\n",
              "        fill: #1967D2;\n",
              "        height: 32px;\n",
              "        padding: 0 0 0 0;\n",
              "        width: 32px;\n",
              "      }\n",
              "\n",
              "      .colab-df-generate:hover {\n",
              "        background-color: #E2EBFA;\n",
              "        box-shadow: 0px 1px 2px rgba(60, 64, 67, 0.3), 0px 1px 3px 1px rgba(60, 64, 67, 0.15);\n",
              "        fill: #174EA6;\n",
              "      }\n",
              "\n",
              "      [theme=dark] .colab-df-generate {\n",
              "        background-color: #3B4455;\n",
              "        fill: #D2E3FC;\n",
              "      }\n",
              "\n",
              "      [theme=dark] .colab-df-generate:hover {\n",
              "        background-color: #434B5C;\n",
              "        box-shadow: 0px 1px 3px 1px rgba(0, 0, 0, 0.15);\n",
              "        filter: drop-shadow(0px 1px 2px rgba(0, 0, 0, 0.3));\n",
              "        fill: #FFFFFF;\n",
              "      }\n",
              "    </style>\n",
              "    <button class=\"colab-df-generate\" onclick=\"generateWithVariable('classe')\"\n",
              "            title=\"Generate code using this dataframe.\"\n",
              "            style=\"display:none;\">\n",
              "\n",
              "  <svg xmlns=\"http://www.w3.org/2000/svg\" height=\"24px\"viewBox=\"0 0 24 24\"\n",
              "       width=\"24px\">\n",
              "    <path d=\"M7,19H8.4L18.45,9,17,7.55,7,17.6ZM5,21V16.75L18.45,3.32a2,2,0,0,1,2.83,0l1.4,1.43a1.91,1.91,0,0,1,.58,1.4,1.91,1.91,0,0,1-.58,1.4L9.25,21ZM18.45,9,17,7.55Zm-12,3A5.31,5.31,0,0,0,4.9,8.1,5.31,5.31,0,0,0,1,6.5,5.31,5.31,0,0,0,4.9,4.9,5.31,5.31,0,0,0,6.5,1,5.31,5.31,0,0,0,8.1,4.9,5.31,5.31,0,0,0,12,6.5,5.46,5.46,0,0,0,6.5,12Z\"/>\n",
              "  </svg>\n",
              "    </button>\n",
              "    <script>\n",
              "      (() => {\n",
              "      const buttonEl =\n",
              "        document.querySelector('#id_d9d63a57-36da-4ede-95eb-dd53661f052b button.colab-df-generate');\n",
              "      buttonEl.style.display =\n",
              "        google.colab.kernel.accessAllowed ? 'block' : 'none';\n",
              "\n",
              "      buttonEl.onclick = () => {\n",
              "        google.colab.notebook.generateWithVariable('classe');\n",
              "      }\n",
              "      })();\n",
              "    </script>\n",
              "  </div>\n",
              "\n",
              "    </div>\n",
              "  </div>\n"
            ],
            "application/vnd.google.colaboratory.intrinsic+json": {
              "type": "dataframe",
              "variable_name": "classe",
              "summary": "{\n  \"name\": \"classe\",\n  \"rows\": 16,\n  \"fields\": [\n    {\n      \"column\": \"Classes CNAE 2.0 \",\n      \"properties\": {\n        \"dtype\": \"string\",\n        \"num_unique_values\": 16,\n        \"samples\": [\n          \"Cabeleireiros e outras atividades de tratamento de beleza\",\n          \"Atividades de malote de entrega\",\n          \"Fotoc\\u00f3pias, prepara\\u00e7\\u00e3o de documentos e outros servi\\u00e7os especializados de apoio administrativo\"\n        ],\n        \"semantic_type\": \"\",\n        \"description\": \"\"\n      }\n    },\n    {\n      \"column\": \"Absoluto\",\n      \"properties\": {\n        \"dtype\": \"string\",\n        \"num_unique_values\": 16,\n        \"samples\": [\n          \" 1 304 187\",\n          \"  289 160\",\n          \"  321 110\"\n        ],\n        \"semantic_type\": \"\",\n        \"description\": \"\"\n      }\n    },\n    {\n      \"column\": \"Relativo (%)\",\n      \"properties\": {\n        \"dtype\": \"string\",\n        \"num_unique_values\": 14,\n        \"samples\": [\n          \"1,9\",\n          \"2,1\",\n          \"9,0\"\n        ],\n        \"semantic_type\": \"\",\n        \"description\": \"\"\n      }\n    }\n  ]\n}"
            }
          },
          "metadata": {},
          "execution_count": 2
        }
      ]
    },
    {
      "cell_type": "code",
      "source": [
        "classe['Absoluto'] = pd.to_numeric(classe['Absoluto'].str.replace(' ', ''), errors='coerce')\n",
        "classe['Relativo (%)'] = pd.to_numeric(classe['Relativo (%)'].str.replace(',', '.'), errors='coerce')"
      ],
      "metadata": {
        "id": "ZDweCzeSWg4D"
      },
      "execution_count": 3,
      "outputs": []
    },
    {
      "cell_type": "code",
      "source": [
        "classe.dtypes"
      ],
      "metadata": {
        "colab": {
          "base_uri": "https://localhost:8080/",
          "height": 178
        },
        "id": "oo5rtNIJWg5t",
        "outputId": "eba0989e-3f6a-4899-8637-ac564036ffd3"
      },
      "execution_count": 4,
      "outputs": [
        {
          "output_type": "execute_result",
          "data": {
            "text/plain": [
              "Classes CNAE 2.0      object\n",
              "Absoluto               int64\n",
              "Relativo (%)         float64\n",
              "dtype: object"
            ],
            "text/html": [
              "<div>\n",
              "<style scoped>\n",
              "    .dataframe tbody tr th:only-of-type {\n",
              "        vertical-align: middle;\n",
              "    }\n",
              "\n",
              "    .dataframe tbody tr th {\n",
              "        vertical-align: top;\n",
              "    }\n",
              "\n",
              "    .dataframe thead th {\n",
              "        text-align: right;\n",
              "    }\n",
              "</style>\n",
              "<table border=\"1\" class=\"dataframe\">\n",
              "  <thead>\n",
              "    <tr style=\"text-align: right;\">\n",
              "      <th></th>\n",
              "      <th>0</th>\n",
              "    </tr>\n",
              "  </thead>\n",
              "  <tbody>\n",
              "    <tr>\n",
              "      <th>Classes CNAE 2.0</th>\n",
              "      <td>object</td>\n",
              "    </tr>\n",
              "    <tr>\n",
              "      <th>Absoluto</th>\n",
              "      <td>int64</td>\n",
              "    </tr>\n",
              "    <tr>\n",
              "      <th>Relativo (%)</th>\n",
              "      <td>float64</td>\n",
              "    </tr>\n",
              "  </tbody>\n",
              "</table>\n",
              "</div><br><label><b>dtype:</b> object</label>"
            ]
          },
          "metadata": {},
          "execution_count": 4
        }
      ]
    },
    {
      "cell_type": "markdown",
      "source": [
        "* Trimmed mean"
      ],
      "metadata": {
        "id": "NJ9qj0N4Ss1C"
      }
    },
    {
      "cell_type": "markdown",
      "source": [
        "$$\n",
        "\\text{Trimmed mean} = \\bar{x} = \\frac{\\sum_{i=p+1}^{n-p} x_{(i)}}{n - 2p}\n",
        "$$"
      ],
      "metadata": {
        "id": "6vvG5dfuYjB6"
      }
    },
    {
      "cell_type": "markdown",
      "source": [
        "* A trimmed mean eliminates the influence of extreme values\n",
        "* The mean is bigger than the trimmed mean, which is bigger than the median\n",
        "* The trimmed mean excludes the largest and the smallest classes(tim=0.1 drops 10% from each end)."
      ],
      "metadata": {
        "id": "vPhvU20RYzVf"
      }
    },
    {
      "cell_type": "markdown",
      "source": [
        "* The mean is more sensitive to outliers(extreme values)\n",
        "* The median, trimmed mean are less sensitive hence more robust"
      ],
      "metadata": {
        "id": "vA-Yy4z0cqvD"
      }
    },
    {
      "cell_type": "code",
      "source": [
        "classe['Absoluto'].mean()"
      ],
      "metadata": {
        "colab": {
          "base_uri": "https://localhost:8080/"
        },
        "id": "vn11yFSDTgkS",
        "outputId": "1fdf2ae6-19d3-45bf-c85b-464458dd3d12"
      },
      "execution_count": 5,
      "outputs": [
        {
          "output_type": "execute_result",
          "data": {
            "text/plain": [
              "910478.3125"
            ]
          },
          "metadata": {},
          "execution_count": 5
        }
      ]
    },
    {
      "cell_type": "code",
      "source": [
        "trim_mean(classe['Absoluto'], 0.1)"
      ],
      "metadata": {
        "id": "xu00vO4A2PWm",
        "outputId": "f0ff3704-9565-4cca-8996-0eb1b274781a",
        "colab": {
          "base_uri": "https://localhost:8080/"
        }
      },
      "execution_count": 6,
      "outputs": [
        {
          "output_type": "execute_result",
          "data": {
            "text/plain": [
              "560784.0"
            ]
          },
          "metadata": {},
          "execution_count": 6
        }
      ]
    },
    {
      "cell_type": "code",
      "source": [
        "classe['Absoluto'].median()"
      ],
      "metadata": {
        "id": "hPqg3hIj2PQN",
        "outputId": "223f5fce-ddc1-4ed7-814d-3d4b04716ae5",
        "colab": {
          "base_uri": "https://localhost:8080/"
        }
      },
      "execution_count": 7,
      "outputs": [
        {
          "output_type": "execute_result",
          "data": {
            "text/plain": [
              "453249.5"
            ]
          },
          "metadata": {},
          "execution_count": 7
        }
      ]
    },
    {
      "cell_type": "markdown",
      "source": [
        "* Computing the average of classes, we use the weighted mean or median to account for different classes"
      ],
      "metadata": {
        "id": "OHosYq6VdAMu"
      }
    },
    {
      "cell_type": "markdown",
      "source": [
        "$$\\text{Weighted mean} = \\bar{x} = \\frac{\\sum_{i=k+1}^{n-k} x_i}{n-2k}$$"
      ],
      "metadata": {
        "id": "daH_2XZOZuZO"
      }
    },
    {
      "cell_type": "markdown",
      "source": [
        "* Weighted mean"
      ],
      "metadata": {
        "id": "Tpcp3ZmKchlQ"
      }
    },
    {
      "cell_type": "code",
      "source": [
        "np.average(classe['Relativo (%)'], weights=classe['Absoluto'])"
      ],
      "metadata": {
        "colab": {
          "base_uri": "https://localhost:8080/"
        },
        "id": "uXFWEEdxbw-X",
        "outputId": "e72316fc-501f-486c-c076-af7ee4d418d5"
      },
      "execution_count": 8,
      "outputs": [
        {
          "output_type": "execute_result",
          "data": {
            "text/plain": [
              "22.216934862465493"
            ]
          },
          "metadata": {},
          "execution_count": 8
        }
      ]
    },
    {
      "cell_type": "markdown",
      "source": [
        "* Weighted median"
      ],
      "metadata": {
        "id": "Jz4Hrnfecd_c"
      }
    },
    {
      "cell_type": "code",
      "source": [
        "wquantiles.median(classe['Relativo (%)'], weights=classe['Absoluto'])"
      ],
      "metadata": {
        "colab": {
          "base_uri": "https://localhost:8080/"
        },
        "id": "S6zOzaLbXN_X",
        "outputId": "06c959e3-2a7e-4dcf-8a2e-704ad330e44c"
      },
      "execution_count": 9,
      "outputs": [
        {
          "output_type": "execute_result",
          "data": {
            "text/plain": [
              "8.630174769433523"
            ]
          },
          "metadata": {},
          "execution_count": 9
        }
      ]
    },
    {
      "cell_type": "markdown",
      "source": [
        "* The variance is an average of the squared deviations"
      ],
      "metadata": {
        "id": "9ORliK3pzNyA"
      }
    },
    {
      "cell_type": "markdown",
      "source": [
        "$$\\text{Variance} = \\frac{1}{n-1} \\sum_{i=1}^{n} (x_i - \\bar{x})^2$$"
      ],
      "metadata": {
        "id": "y32wSxEcojVZ"
      }
    },
    {
      "cell_type": "markdown",
      "source": [
        "* the standard deviation is the square root of the variance"
      ],
      "metadata": {
        "id": "9Pfdio_HzTxQ"
      }
    },
    {
      "cell_type": "markdown",
      "source": [
        "* The standard deviation is much easier to interpret then the variance since is the same scale as the original data, working with squared values is much more convenient than the absolute values"
      ],
      "metadata": {
        "id": "YriMEX7Azbor"
      }
    },
    {
      "cell_type": "markdown",
      "source": [
        "$$\\text{Standard Deviation} = \\sqrt{\\frac{1}{n} \\sum_{i=1}^{n} (x_i - \\bar{x})^2}$$"
      ],
      "metadata": {
        "id": "p3qksIBYo13B"
      }
    },
    {
      "cell_type": "code",
      "source": [
        "classe['Absoluto'].std()"
      ],
      "metadata": {
        "colab": {
          "base_uri": "https://localhost:8080/"
        },
        "id": "Ln4lopTowauV",
        "outputId": "50d697f9-c143-49a4-fa3f-c497767d12ec"
      },
      "execution_count": 10,
      "outputs": [
        {
          "output_type": "execute_result",
          "data": {
            "text/plain": [
              "1502910.402234044"
            ]
          },
          "metadata": {},
          "execution_count": 10
        }
      ]
    },
    {
      "cell_type": "markdown",
      "source": [
        "* Common measure of variability is the difference between the 25th percentil and the 75th percentile called interquantile range(IQR)"
      ],
      "metadata": {
        "id": "dN_k4nW31Guw"
      }
    },
    {
      "cell_type": "markdown",
      "source": [
        "$$\\text{IQR} = Q_3 - Q_1$$"
      ],
      "metadata": {
        "id": "6SXz6mvP08yV"
      }
    },
    {
      "cell_type": "code",
      "source": [
        "classe['Absoluto'].quantile(0.75) - classe['Absoluto'].quantile(0.25)"
      ],
      "metadata": {
        "colab": {
          "base_uri": "https://localhost:8080/"
        },
        "id": "z3J9qMM3xq3l",
        "outputId": "4ac43ae9-ab57-47b7-a64a-67b3b0517662"
      },
      "execution_count": 11,
      "outputs": [
        {
          "output_type": "execute_result",
          "data": {
            "text/plain": [
              "401304.5"
            ]
          },
          "metadata": {},
          "execution_count": 11
        }
      ]
    },
    {
      "cell_type": "markdown",
      "source": [
        "* One way to measure variability is to take the average of the absolute values of the deviations from the mean"
      ],
      "metadata": {
        "id": "XMNLIWpKyjDz"
      }
    },
    {
      "cell_type": "markdown",
      "source": [
        "$$\\text{Mean Absolute Deviation} = \\frac{1}{n} \\sum_{i=1}^{n} |x_i - \\bar{x}|$$"
      ],
      "metadata": {
        "id": "ZV1QIO7anqbs"
      }
    },
    {
      "cell_type": "markdown",
      "source": [
        "* The variance and the squared deviations are especially sensitive to outliers since they are based on the squared deviations"
      ],
      "metadata": {
        "id": "PDeF7JmP0B1e"
      }
    },
    {
      "cell_type": "markdown",
      "source": [
        "* A robust estimate of variability is the median absolute deviation from the median"
      ],
      "metadata": {
        "id": "7GSyP-GS0NQ_"
      }
    },
    {
      "cell_type": "markdown",
      "source": [
        "$$\\text{MAD} = \\text{median}\\left(|x_i - \\text{median}(x)|\\right)$$"
      ],
      "metadata": {
        "id": "3v33_P8pq0Ap"
      }
    },
    {
      "cell_type": "code",
      "source": [
        "robust.scale.mad(classe['Absoluto'])"
      ],
      "metadata": {
        "colab": {
          "base_uri": "https://localhost:8080/"
        },
        "id": "maP7ybe1x34n",
        "outputId": "c9a13bbf-c7d5-4807-cca5-74485b9f2c4f"
      },
      "execution_count": 12,
      "outputs": [
        {
          "output_type": "execute_result",
          "data": {
            "text/plain": [
              "231643.25322153376"
            ]
          },
          "metadata": {},
          "execution_count": 12
        }
      ]
    },
    {
      "cell_type": "code",
      "source": [
        "classe['Relativo (%)'].quantile([0.05, 0.25, 0.5, 0.75, 0.95])"
      ],
      "metadata": {
        "id": "xtbfl8wcx6CO",
        "colab": {
          "base_uri": "https://localhost:8080/",
          "height": 241
        },
        "outputId": "8de69741-8716-4d71-d463-d9b59cd65926"
      },
      "execution_count": 13,
      "outputs": [
        {
          "output_type": "execute_result",
          "data": {
            "text/plain": [
              "0.05     1.975\n",
              "0.25     2.200\n",
              "0.50     3.100\n",
              "0.75     4.950\n",
              "0.95    17.800\n",
              "Name: Relativo (%), dtype: float64"
            ],
            "text/html": [
              "<div>\n",
              "<style scoped>\n",
              "    .dataframe tbody tr th:only-of-type {\n",
              "        vertical-align: middle;\n",
              "    }\n",
              "\n",
              "    .dataframe tbody tr th {\n",
              "        vertical-align: top;\n",
              "    }\n",
              "\n",
              "    .dataframe thead th {\n",
              "        text-align: right;\n",
              "    }\n",
              "</style>\n",
              "<table border=\"1\" class=\"dataframe\">\n",
              "  <thead>\n",
              "    <tr style=\"text-align: right;\">\n",
              "      <th></th>\n",
              "      <th>Relativo (%)</th>\n",
              "    </tr>\n",
              "  </thead>\n",
              "  <tbody>\n",
              "    <tr>\n",
              "      <th>0.05</th>\n",
              "      <td>1.975</td>\n",
              "    </tr>\n",
              "    <tr>\n",
              "      <th>0.25</th>\n",
              "      <td>2.200</td>\n",
              "    </tr>\n",
              "    <tr>\n",
              "      <th>0.50</th>\n",
              "      <td>3.100</td>\n",
              "    </tr>\n",
              "    <tr>\n",
              "      <th>0.75</th>\n",
              "      <td>4.950</td>\n",
              "    </tr>\n",
              "    <tr>\n",
              "      <th>0.95</th>\n",
              "      <td>17.800</td>\n",
              "    </tr>\n",
              "  </tbody>\n",
              "</table>\n",
              "</div><br><label><b>dtype:</b> float64</label>"
            ]
          },
          "metadata": {},
          "execution_count": 13
        }
      ]
    },
    {
      "cell_type": "code",
      "source": [
        "classe['Absoluto'].sum()"
      ],
      "metadata": {
        "colab": {
          "base_uri": "https://localhost:8080/"
        },
        "id": "_xKzQqAY-L4x",
        "outputId": "a627d4a0-538f-480c-c6da-48b56a76b395"
      },
      "execution_count": 14,
      "outputs": [
        {
          "output_type": "execute_result",
          "data": {
            "text/plain": [
              "14567653"
            ]
          },
          "metadata": {},
          "execution_count": 14
        }
      ]
    },
    {
      "cell_type": "code",
      "source": [
        "boxplot = classe.boxplot(column=['Absoluto'])\n",
        "plt.title('Class population boxplot')\n",
        "plt.show()"
      ],
      "metadata": {
        "colab": {
          "base_uri": "https://localhost:8080/",
          "height": 452
        },
        "id": "qdP5qlfPCVjn",
        "outputId": "f5cfd8d8-c6f1-439c-f4fe-308db06e373f"
      },
      "execution_count": 15,
      "outputs": [
        {
          "output_type": "display_data",
          "data": {
            "text/plain": [
              "<Figure size 640x480 with 1 Axes>"
            ],
            "image/png": "[encoded data removed]"
          },
          "metadata": {}
        }
      ]
    },
    {
      "cell_type": "code",
      "source": [
        "ax = (classe['Absoluto']/ 1_000_000).plot.hist()\n",
        "ax.set_xlabel('Class population')"
      ],
      "metadata": {
        "colab": {
          "base_uri": "https://localhost:8080/",
          "height": 467
        },
        "id": "Ua0cqUpxMeJw",
        "outputId": "434ced04-be26-4317-ae62-482da9cd1538"
      },
      "execution_count": 16,
      "outputs": [
        {
          "output_type": "execute_result",
          "data": {
            "text/plain": [
              "Text(0.5, 0, 'Class population')"
            ]
          },
          "metadata": {},
          "execution_count": 16
        },
        {
          "output_type": "display_data",
          "data": {
            "text/plain": [
              "<Figure size 640x480 with 1 Axes>"
            ],
            "image/png": "[encoded data removed]"
          },
          "metadata": {}
        }
      ]
    },
    {
      "cell_type": "code",
      "source": [
        "ax = classe['Relativo (%)'].plot.hist(density=True, xlim=[0,12], bins=range(1,12))\n",
        "classe['Relativo (%)'].plot.density(ax=ax)\n",
        "ax.set_xlabel('Relative population (per 100,000)')"
      ],
      "metadata": {
        "colab": {
          "base_uri": "https://localhost:8080/",
          "height": 467
        },
        "id": "8kKuYEhbNR1D",
        "outputId": "c180f55f-8570-47ec-9307-508323c0f9b9"
      },
      "execution_count": 17,
      "outputs": [
        {
          "output_type": "execute_result",
          "data": {
            "text/plain": [
              "Text(0.5, 0, 'Relative population (per 100,000)')"
            ]
          },
          "metadata": {},
          "execution_count": 17
        },
        {
          "output_type": "display_data",
          "data": {
            "text/plain": [
              "<Figure size 640x480 with 1 Axes>"
            ],
            "image/png": "[encoded data removed]"
          },
          "metadata": {}
        }
      ]
    },
    {
      "cell_type": "code",
      "source": [],
      "metadata": {
        "id": "vxksS7MSOFOb"
      },
      "execution_count": 17,
      "outputs": []
    }
  ]
}