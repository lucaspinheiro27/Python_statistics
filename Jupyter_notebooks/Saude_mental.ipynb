{
  "nbformat": 4,
  "nbformat_minor": 0,
  "metadata": {
    "colab": {
      "provenance": [],
      "authorship_tag": "ABX9TyOvjyzZdo+UFgzPnohaSzJ5",
      "include_colab_link": true
    },
    "kernelspec": {
      "name": "python3",
      "display_name": "Python 3"
    },
    "language_info": {
      "name": "python"
    }
  },
  "cells": [
    {
      "cell_type": "markdown",
      "metadata": {
        "id": "view-in-github",
        "colab_type": "text"
      },
      "source": [
        "<a href=\"https://colab.research.google.com/github/lucaspinheiro27/Python_statistics/blob/main/Jupyter_notebooks/Saude_mental.ipynb\" target=\"_parent\"><img src=\"https://colab.research.google.com/assets/colab-badge.svg\" alt=\"Open In Colab\"/></a>"
      ]
    },
    {
      "cell_type": "code",
      "source": [
        "import pandas as pd\n",
        "import numpy as np\n",
        "from numpy import percentile\n",
        "import matplotlib.pyplot as plt\n",
        "import seaborn as sns\n",
        "from scipy.stats import probplot\n",
        "from scipy import stats\n",
        "%matplotlib inline\n",
        "from scipy.stats import norm"
      ],
      "metadata": {
        "id": "PQISu_OqsrRA"
      },
      "execution_count": 22,
      "outputs": []
    },
    {
      "cell_type": "code",
      "source": [
        "df = pd.read_excel('/content/Saude_Mental.xlsx')\n",
        "df.sample(21)"
      ],
      "metadata": {
        "colab": {
          "base_uri": "https://localhost:8080/",
          "height": 708
        },
        "id": "Xpn9nB73tIo4",
        "outputId": "8d31dfef-116e-48b2-f795-414eef350a58"
      },
      "execution_count": 27,
      "outputs": [
        {
          "output_type": "execute_result",
          "data": {
            "text/plain": [
              "         Data  Humor Geral  Qualidade de sono Atividade Física   \\\n",
              "13 2024-10-16            4                  7               Sim   \n",
              "11 2024-10-14            7                  6               Sim   \n",
              "16 2024-10-19            7                  6               Não   \n",
              "17 2024-10-20            6                  6               Não   \n",
              "6  2024-10-09            8                  9               Sim   \n",
              "7  2024-10-10            9                  9               Sim   \n",
              "12 2024-10-15            5                  7               Sim   \n",
              "18 2024-10-21            8                  7               Não   \n",
              "4  2024-10-07            5                  3               Sim   \n",
              "20 2024-10-23            9                  7               Sim   \n",
              "0  2024-10-03            7                  8               Sim   \n",
              "2  2024-10-05            7                  6               Não   \n",
              "5  2024-10-08            7                  8               Sim   \n",
              "3  2024-10-06            6                  7               Não   \n",
              "8  2024-10-11            8                  7               Sim   \n",
              "1  2024-10-04            6                  8               Sim   \n",
              "10 2024-10-13            8                  8               Não   \n",
              "14 2024-10-17            5                  6               Sim   \n",
              "9  2024-10-12            8                  8               Sim   \n",
              "19 2024-10-22            7                  8               Sim   \n",
              "15 2024-10-18            6                  6               Sim   \n",
              "\n",
              "   Interação Social Sentimento predominanete  Quantidade de horas de sono  \\\n",
              "13         Moderada                Ansiedade                            5   \n",
              "11         Moderada                Ansiedade                            6   \n",
              "16            Muita                  Alegria                            6   \n",
              "17            Baixa                Depressão                            7   \n",
              "6             Baixa                  Alegria                            7   \n",
              "7          Moderada                  Alegria                            8   \n",
              "12         Moderada                Depressão                            8   \n",
              "18            Baixa                  Alegria                            6   \n",
              "4          Moderada                Depressão                            4   \n",
              "20         Moderada                  Alegria                            7   \n",
              "0          Moderada                Ansiedade                            9   \n",
              "2             Muita                Depressão                            5   \n",
              "5          Moderada                Ansiedade                            7   \n",
              "3          Moderada                Ansiedade                           10   \n",
              "8          Moderada                  Alegria                            6   \n",
              "1             Muita                Depressão                            7   \n",
              "10            Baixa                  Alegria                            9   \n",
              "14         Moderada                Depressão                            8   \n",
              "9             Muita                  Alegria                            7   \n",
              "19         Moderada                  Alegria                            7   \n",
              "15         Moderada                Depressão                            7   \n",
              "\n",
              "   Alimentação        Relexões e comentários Cansaço  \n",
              "13        Ruim            Estou muito triste     Sim  \n",
              "11    Moderada  Estou me sentindo para baixo     Sim  \n",
              "16        Ruim                 Estou animado     Não  \n",
              "17    Moderada      Estou me sentindo triste     Não  \n",
              "6          Boa         Estou me sentindo bem     Não  \n",
              "7          Boa               Estou tranquilo     Não  \n",
              "12    Moderada                 Estou nervoso     Sim  \n",
              "18    Moderada                  Estou alegre     Não  \n",
              "4         Ruim           Me sentindo cansado     Sim  \n",
              "20    Moderada       Estou tranquilo e feliz     Não  \n",
              "0     Moderada  Dormi bem, mas estou ansioso     Não  \n",
              "2     Moderada         Me sentindo solitário     Sim  \n",
              "5     Moderada                Estou irritado     Sim  \n",
              "3     Moderada              Ansiedade social     Sim  \n",
              "8          Boa               Estou confiante     Sim  \n",
              "1     Moderada      Estou me sentindo triste     Não  \n",
              "10         Boa       Estou me sentindo feliz     Não  \n",
              "14        Ruim                 Não estou bem     Sim  \n",
              "9     Moderada         Estou me sentindo bem     Sim  \n",
              "19    Moderada                     Estou bem     Não  \n",
              "15        Ruim          Estou sem esperança      Sim  "
            ],
            "text/html": [
              "\n",
              "  <div id=\"df-d96a4b86-21ab-42b0-94e2-8d1ec7d4c129\" class=\"colab-df-container\">\n",
              "    <div>\n",
              "<style scoped>\n",
              "    .dataframe tbody tr th:only-of-type {\n",
              "        vertical-align: middle;\n",
              "    }\n",
              "\n",
              "    .dataframe tbody tr th {\n",
              "        vertical-align: top;\n",
              "    }\n",
              "\n",
              "    .dataframe thead th {\n",
              "        text-align: right;\n",
              "    }\n",
              "</style>\n",
              "<table border=\"1\" class=\"dataframe\">\n",
              "  <thead>\n",
              "    <tr style=\"text-align: right;\">\n",
              "      <th></th>\n",
              "      <th>Data</th>\n",
              "      <th>Humor Geral</th>\n",
              "      <th>Qualidade de sono</th>\n",
              "      <th>Atividade Física</th>\n",
              "      <th>Interação Social</th>\n",
              "      <th>Sentimento predominanete</th>\n",
              "      <th>Quantidade de horas de sono</th>\n",
              "      <th>Alimentação</th>\n",
              "      <th>Relexões e comentários</th>\n",
              "      <th>Cansaço</th>\n",
              "    </tr>\n",
              "  </thead>\n",
              "  <tbody>\n",
              "    <tr>\n",
              "      <th>13</th>\n",
              "      <td>2024-10-16</td>\n",
              "      <td>4</td>\n",
              "      <td>7</td>\n",
              "      <td>Sim</td>\n",
              "      <td>Moderada</td>\n",
              "      <td>Ansiedade</td>\n",
              "      <td>5</td>\n",
              "      <td>Ruim</td>\n",
              "      <td>Estou muito triste</td>\n",
              "      <td>Sim</td>\n",
              "    </tr>\n",
              "    <tr>\n",
              "      <th>11</th>\n",
              "      <td>2024-10-14</td>\n",
              "      <td>7</td>\n",
              "      <td>6</td>\n",
              "      <td>Sim</td>\n",
              "      <td>Moderada</td>\n",
              "      <td>Ansiedade</td>\n",
              "      <td>6</td>\n",
              "      <td>Moderada</td>\n",
              "      <td>Estou me sentindo para baixo</td>\n",
              "      <td>Sim</td>\n",
              "    </tr>\n",
              "    <tr>\n",
              "      <th>16</th>\n",
              "      <td>2024-10-19</td>\n",
              "      <td>7</td>\n",
              "      <td>6</td>\n",
              "      <td>Não</td>\n",
              "      <td>Muita</td>\n",
              "      <td>Alegria</td>\n",
              "      <td>6</td>\n",
              "      <td>Ruim</td>\n",
              "      <td>Estou animado</td>\n",
              "      <td>Não</td>\n",
              "    </tr>\n",
              "    <tr>\n",
              "      <th>17</th>\n",
              "      <td>2024-10-20</td>\n",
              "      <td>6</td>\n",
              "      <td>6</td>\n",
              "      <td>Não</td>\n",
              "      <td>Baixa</td>\n",
              "      <td>Depressão</td>\n",
              "      <td>7</td>\n",
              "      <td>Moderada</td>\n",
              "      <td>Estou me sentindo triste</td>\n",
              "      <td>Não</td>\n",
              "    </tr>\n",
              "    <tr>\n",
              "      <th>6</th>\n",
              "      <td>2024-10-09</td>\n",
              "      <td>8</td>\n",
              "      <td>9</td>\n",
              "      <td>Sim</td>\n",
              "      <td>Baixa</td>\n",
              "      <td>Alegria</td>\n",
              "      <td>7</td>\n",
              "      <td>Boa</td>\n",
              "      <td>Estou me sentindo bem</td>\n",
              "      <td>Não</td>\n",
              "    </tr>\n",
              "    <tr>\n",
              "      <th>7</th>\n",
              "      <td>2024-10-10</td>\n",
              "      <td>9</td>\n",
              "      <td>9</td>\n",
              "      <td>Sim</td>\n",
              "      <td>Moderada</td>\n",
              "      <td>Alegria</td>\n",
              "      <td>8</td>\n",
              "      <td>Boa</td>\n",
              "      <td>Estou tranquilo</td>\n",
              "      <td>Não</td>\n",
              "    </tr>\n",
              "    <tr>\n",
              "      <th>12</th>\n",
              "      <td>2024-10-15</td>\n",
              "      <td>5</td>\n",
              "      <td>7</td>\n",
              "      <td>Sim</td>\n",
              "      <td>Moderada</td>\n",
              "      <td>Depressão</td>\n",
              "      <td>8</td>\n",
              "      <td>Moderada</td>\n",
              "      <td>Estou nervoso</td>\n",
              "      <td>Sim</td>\n",
              "    </tr>\n",
              "    <tr>\n",
              "      <th>18</th>\n",
              "      <td>2024-10-21</td>\n",
              "      <td>8</td>\n",
              "      <td>7</td>\n",
              "      <td>Não</td>\n",
              "      <td>Baixa</td>\n",
              "      <td>Alegria</td>\n",
              "      <td>6</td>\n",
              "      <td>Moderada</td>\n",
              "      <td>Estou alegre</td>\n",
              "      <td>Não</td>\n",
              "    </tr>\n",
              "    <tr>\n",
              "      <th>4</th>\n",
              "      <td>2024-10-07</td>\n",
              "      <td>5</td>\n",
              "      <td>3</td>\n",
              "      <td>Sim</td>\n",
              "      <td>Moderada</td>\n",
              "      <td>Depressão</td>\n",
              "      <td>4</td>\n",
              "      <td>Ruim</td>\n",
              "      <td>Me sentindo cansado</td>\n",
              "      <td>Sim</td>\n",
              "    </tr>\n",
              "    <tr>\n",
              "      <th>20</th>\n",
              "      <td>2024-10-23</td>\n",
              "      <td>9</td>\n",
              "      <td>7</td>\n",
              "      <td>Sim</td>\n",
              "      <td>Moderada</td>\n",
              "      <td>Alegria</td>\n",
              "      <td>7</td>\n",
              "      <td>Moderada</td>\n",
              "      <td>Estou tranquilo e feliz</td>\n",
              "      <td>Não</td>\n",
              "    </tr>\n",
              "    <tr>\n",
              "      <th>0</th>\n",
              "      <td>2024-10-03</td>\n",
              "      <td>7</td>\n",
              "      <td>8</td>\n",
              "      <td>Sim</td>\n",
              "      <td>Moderada</td>\n",
              "      <td>Ansiedade</td>\n",
              "      <td>9</td>\n",
              "      <td>Moderada</td>\n",
              "      <td>Dormi bem, mas estou ansioso</td>\n",
              "      <td>Não</td>\n",
              "    </tr>\n",
              "    <tr>\n",
              "      <th>2</th>\n",
              "      <td>2024-10-05</td>\n",
              "      <td>7</td>\n",
              "      <td>6</td>\n",
              "      <td>Não</td>\n",
              "      <td>Muita</td>\n",
              "      <td>Depressão</td>\n",
              "      <td>5</td>\n",
              "      <td>Moderada</td>\n",
              "      <td>Me sentindo solitário</td>\n",
              "      <td>Sim</td>\n",
              "    </tr>\n",
              "    <tr>\n",
              "      <th>5</th>\n",
              "      <td>2024-10-08</td>\n",
              "      <td>7</td>\n",
              "      <td>8</td>\n",
              "      <td>Sim</td>\n",
              "      <td>Moderada</td>\n",
              "      <td>Ansiedade</td>\n",
              "      <td>7</td>\n",
              "      <td>Moderada</td>\n",
              "      <td>Estou irritado</td>\n",
              "      <td>Sim</td>\n",
              "    </tr>\n",
              "    <tr>\n",
              "      <th>3</th>\n",
              "      <td>2024-10-06</td>\n",
              "      <td>6</td>\n",
              "      <td>7</td>\n",
              "      <td>Não</td>\n",
              "      <td>Moderada</td>\n",
              "      <td>Ansiedade</td>\n",
              "      <td>10</td>\n",
              "      <td>Moderada</td>\n",
              "      <td>Ansiedade social</td>\n",
              "      <td>Sim</td>\n",
              "    </tr>\n",
              "    <tr>\n",
              "      <th>8</th>\n",
              "      <td>2024-10-11</td>\n",
              "      <td>8</td>\n",
              "      <td>7</td>\n",
              "      <td>Sim</td>\n",
              "      <td>Moderada</td>\n",
              "      <td>Alegria</td>\n",
              "      <td>6</td>\n",
              "      <td>Boa</td>\n",
              "      <td>Estou confiante</td>\n",
              "      <td>Sim</td>\n",
              "    </tr>\n",
              "    <tr>\n",
              "      <th>1</th>\n",
              "      <td>2024-10-04</td>\n",
              "      <td>6</td>\n",
              "      <td>8</td>\n",
              "      <td>Sim</td>\n",
              "      <td>Muita</td>\n",
              "      <td>Depressão</td>\n",
              "      <td>7</td>\n",
              "      <td>Moderada</td>\n",
              "      <td>Estou me sentindo triste</td>\n",
              "      <td>Não</td>\n",
              "    </tr>\n",
              "    <tr>\n",
              "      <th>10</th>\n",
              "      <td>2024-10-13</td>\n",
              "      <td>8</td>\n",
              "      <td>8</td>\n",
              "      <td>Não</td>\n",
              "      <td>Baixa</td>\n",
              "      <td>Alegria</td>\n",
              "      <td>9</td>\n",
              "      <td>Boa</td>\n",
              "      <td>Estou me sentindo feliz</td>\n",
              "      <td>Não</td>\n",
              "    </tr>\n",
              "    <tr>\n",
              "      <th>14</th>\n",
              "      <td>2024-10-17</td>\n",
              "      <td>5</td>\n",
              "      <td>6</td>\n",
              "      <td>Sim</td>\n",
              "      <td>Moderada</td>\n",
              "      <td>Depressão</td>\n",
              "      <td>8</td>\n",
              "      <td>Ruim</td>\n",
              "      <td>Não estou bem</td>\n",
              "      <td>Sim</td>\n",
              "    </tr>\n",
              "    <tr>\n",
              "      <th>9</th>\n",
              "      <td>2024-10-12</td>\n",
              "      <td>8</td>\n",
              "      <td>8</td>\n",
              "      <td>Sim</td>\n",
              "      <td>Muita</td>\n",
              "      <td>Alegria</td>\n",
              "      <td>7</td>\n",
              "      <td>Moderada</td>\n",
              "      <td>Estou me sentindo bem</td>\n",
              "      <td>Sim</td>\n",
              "    </tr>\n",
              "    <tr>\n",
              "      <th>19</th>\n",
              "      <td>2024-10-22</td>\n",
              "      <td>7</td>\n",
              "      <td>8</td>\n",
              "      <td>Sim</td>\n",
              "      <td>Moderada</td>\n",
              "      <td>Alegria</td>\n",
              "      <td>7</td>\n",
              "      <td>Moderada</td>\n",
              "      <td>Estou bem</td>\n",
              "      <td>Não</td>\n",
              "    </tr>\n",
              "    <tr>\n",
              "      <th>15</th>\n",
              "      <td>2024-10-18</td>\n",
              "      <td>6</td>\n",
              "      <td>6</td>\n",
              "      <td>Sim</td>\n",
              "      <td>Moderada</td>\n",
              "      <td>Depressão</td>\n",
              "      <td>7</td>\n",
              "      <td>Ruim</td>\n",
              "      <td>Estou sem esperança</td>\n",
              "      <td>Sim</td>\n",
              "    </tr>\n",
              "  </tbody>\n",
              "</table>\n",
              "</div>\n",
              "    <div class=\"colab-df-buttons\">\n",
              "\n",
              "  <div class=\"colab-df-container\">\n",
              "    <button class=\"colab-df-convert\" onclick=\"convertToInteractive('df-d96a4b86-21ab-42b0-94e2-8d1ec7d4c129')\"\n",
              "            title=\"Convert this dataframe to an interactive table.\"\n",
              "            style=\"display:none;\">\n",
              "\n",
              "  <svg xmlns=\"http://www.w3.org/2000/svg\" height=\"24px\" viewBox=\"0 -960 960 960\">\n",
              "    <path d=\"M120-120v-720h720v720H120Zm60-500h600v-160H180v160Zm220 220h160v-160H400v160Zm0 220h160v-160H400v160ZM180-400h160v-160H180v160Zm440 0h160v-160H620v160ZM180-180h160v-160H180v160Zm440 0h160v-160H620v160Z\"/>\n",
              "  </svg>\n",
              "    </button>\n",
              "\n",
              "  <style>\n",
              "    .colab-df-container {\n",
              "      display:flex;\n",
              "      gap: 12px;\n",
              "    }\n",
              "\n",
              "    .colab-df-convert {\n",
              "      background-color: #E8F0FE;\n",
              "      border: none;\n",
              "      border-radius: 50%;\n",
              "      cursor: pointer;\n",
              "      display: none;\n",
              "      fill: #1967D2;\n",
              "      height: 32px;\n",
              "      padding: 0 0 0 0;\n",
              "      width: 32px;\n",
              "    }\n",
              "\n",
              "    .colab-df-convert:hover {\n",
              "      background-color: #E2EBFA;\n",
              "      box-shadow: 0px 1px 2px rgba(60, 64, 67, 0.3), 0px 1px 3px 1px rgba(60, 64, 67, 0.15);\n",
              "      fill: #174EA6;\n",
              "    }\n",
              "\n",
              "    .colab-df-buttons div {\n",
              "      margin-bottom: 4px;\n",
              "    }\n",
              "\n",
              "    [theme=dark] .colab-df-convert {\n",
              "      background-color: #3B4455;\n",
              "      fill: #D2E3FC;\n",
              "    }\n",
              "\n",
              "    [theme=dark] .colab-df-convert:hover {\n",
              "      background-color: #434B5C;\n",
              "      box-shadow: 0px 1px 3px 1px rgba(0, 0, 0, 0.15);\n",
              "      filter: drop-shadow(0px 1px 2px rgba(0, 0, 0, 0.3));\n",
              "      fill: #FFFFFF;\n",
              "    }\n",
              "  </style>\n",
              "\n",
              "    <script>\n",
              "      const buttonEl =\n",
              "        document.querySelector('#df-d96a4b86-21ab-42b0-94e2-8d1ec7d4c129 button.colab-df-convert');\n",
              "      buttonEl.style.display =\n",
              "        google.colab.kernel.accessAllowed ? 'block' : 'none';\n",
              "\n",
              "      async function convertToInteractive(key) {\n",
              "        const element = document.querySelector('#df-d96a4b86-21ab-42b0-94e2-8d1ec7d4c129');\n",
              "        const dataTable =\n",
              "          await google.colab.kernel.invokeFunction('convertToInteractive',\n",
              "                                                    [key], {});\n",
              "        if (!dataTable) return;\n",
              "\n",
              "        const docLinkHtml = 'Like what you see? Visit the ' +\n",
              "          '<a target=\"_blank\" href=https://colab.research.google.com/notebooks/data_table.ipynb>data table notebook</a>'\n",
              "          + ' to learn more about interactive tables.';\n",
              "        element.innerHTML = '';\n",
              "        dataTable['output_type'] = 'display_data';\n",
              "        await google.colab.output.renderOutput(dataTable, element);\n",
              "        const docLink = document.createElement('div');\n",
              "        docLink.innerHTML = docLinkHtml;\n",
              "        element.appendChild(docLink);\n",
              "      }\n",
              "    </script>\n",
              "  </div>\n",
              "\n",
              "\n",
              "<div id=\"df-321d5c67-e5e2-48d3-9fb5-29cb7292664b\">\n",
              "  <button class=\"colab-df-quickchart\" onclick=\"quickchart('df-321d5c67-e5e2-48d3-9fb5-29cb7292664b')\"\n",
              "            title=\"Suggest charts\"\n",
              "            style=\"display:none;\">\n",
              "\n",
              "<svg xmlns=\"http://www.w3.org/2000/svg\" height=\"24px\"viewBox=\"0 0 24 24\"\n",
              "     width=\"24px\">\n",
              "    <g>\n",
              "        <path d=\"M19 3H5c-1.1 0-2 .9-2 2v14c0 1.1.9 2 2 2h14c1.1 0 2-.9 2-2V5c0-1.1-.9-2-2-2zM9 17H7v-7h2v7zm4 0h-2V7h2v10zm4 0h-2v-4h2v4z\"/>\n",
              "    </g>\n",
              "</svg>\n",
              "  </button>\n",
              "\n",
              "<style>\n",
              "  .colab-df-quickchart {\n",
              "      --bg-color: #E8F0FE;\n",
              "      --fill-color: #1967D2;\n",
              "      --hover-bg-color: #E2EBFA;\n",
              "      --hover-fill-color: #174EA6;\n",
              "      --disabled-fill-color: #AAA;\n",
              "      --disabled-bg-color: #DDD;\n",
              "  }\n",
              "\n",
              "  [theme=dark] .colab-df-quickchart {\n",
              "      --bg-color: #3B4455;\n",
              "      --fill-color: #D2E3FC;\n",
              "      --hover-bg-color: #434B5C;\n",
              "      --hover-fill-color: #FFFFFF;\n",
              "      --disabled-bg-color: #3B4455;\n",
              "      --disabled-fill-color: #666;\n",
              "  }\n",
              "\n",
              "  .colab-df-quickchart {\n",
              "    background-color: var(--bg-color);\n",
              "    border: none;\n",
              "    border-radius: 50%;\n",
              "    cursor: pointer;\n",
              "    display: none;\n",
              "    fill: var(--fill-color);\n",
              "    height: 32px;\n",
              "    padding: 0;\n",
              "    width: 32px;\n",
              "  }\n",
              "\n",
              "  .colab-df-quickchart:hover {\n",
              "    background-color: var(--hover-bg-color);\n",
              "    box-shadow: 0 1px 2px rgba(60, 64, 67, 0.3), 0 1px 3px 1px rgba(60, 64, 67, 0.15);\n",
              "    fill: var(--button-hover-fill-color);\n",
              "  }\n",
              "\n",
              "  .colab-df-quickchart-complete:disabled,\n",
              "  .colab-df-quickchart-complete:disabled:hover {\n",
              "    background-color: var(--disabled-bg-color);\n",
              "    fill: var(--disabled-fill-color);\n",
              "    box-shadow: none;\n",
              "  }\n",
              "\n",
              "  .colab-df-spinner {\n",
              "    border: 2px solid var(--fill-color);\n",
              "    border-color: transparent;\n",
              "    border-bottom-color: var(--fill-color);\n",
              "    animation:\n",
              "      spin 1s steps(1) infinite;\n",
              "  }\n",
              "\n",
              "  @keyframes spin {\n",
              "    0% {\n",
              "      border-color: transparent;\n",
              "      border-bottom-color: var(--fill-color);\n",
              "      border-left-color: var(--fill-color);\n",
              "    }\n",
              "    20% {\n",
              "      border-color: transparent;\n",
              "      border-left-color: var(--fill-color);\n",
              "      border-top-color: var(--fill-color);\n",
              "    }\n",
              "    30% {\n",
              "      border-color: transparent;\n",
              "      border-left-color: var(--fill-color);\n",
              "      border-top-color: var(--fill-color);\n",
              "      border-right-color: var(--fill-color);\n",
              "    }\n",
              "    40% {\n",
              "      border-color: transparent;\n",
              "      border-right-color: var(--fill-color);\n",
              "      border-top-color: var(--fill-color);\n",
              "    }\n",
              "    60% {\n",
              "      border-color: transparent;\n",
              "      border-right-color: var(--fill-color);\n",
              "    }\n",
              "    80% {\n",
              "      border-color: transparent;\n",
              "      border-right-color: var(--fill-color);\n",
              "      border-bottom-color: var(--fill-color);\n",
              "    }\n",
              "    90% {\n",
              "      border-color: transparent;\n",
              "      border-bottom-color: var(--fill-color);\n",
              "    }\n",
              "  }\n",
              "</style>\n",
              "\n",
              "  <script>\n",
              "    async function quickchart(key) {\n",
              "      const quickchartButtonEl =\n",
              "        document.querySelector('#' + key + ' button');\n",
              "      quickchartButtonEl.disabled = true;  // To prevent multiple clicks.\n",
              "      quickchartButtonEl.classList.add('colab-df-spinner');\n",
              "      try {\n",
              "        const charts = await google.colab.kernel.invokeFunction(\n",
              "            'suggestCharts', [key], {});\n",
              "      } catch (error) {\n",
              "        console.error('Error during call to suggestCharts:', error);\n",
              "      }\n",
              "      quickchartButtonEl.classList.remove('colab-df-spinner');\n",
              "      quickchartButtonEl.classList.add('colab-df-quickchart-complete');\n",
              "    }\n",
              "    (() => {\n",
              "      let quickchartButtonEl =\n",
              "        document.querySelector('#df-321d5c67-e5e2-48d3-9fb5-29cb7292664b button');\n",
              "      quickchartButtonEl.style.display =\n",
              "        google.colab.kernel.accessAllowed ? 'block' : 'none';\n",
              "    })();\n",
              "  </script>\n",
              "</div>\n",
              "\n",
              "    </div>\n",
              "  </div>\n"
            ],
            "application/vnd.google.colaboratory.intrinsic+json": {
              "type": "dataframe",
              "summary": "{\n  \"name\": \"df\",\n  \"rows\": 21,\n  \"fields\": [\n    {\n      \"column\": \"Data\",\n      \"properties\": {\n        \"dtype\": \"date\",\n        \"min\": \"2024-10-03 00:00:00\",\n        \"max\": \"2024-10-23 00:00:00\",\n        \"num_unique_values\": 21,\n        \"samples\": [\n          \"2024-10-16 00:00:00\",\n          \"2024-10-17 00:00:00\",\n          \"2024-10-04 00:00:00\"\n        ],\n        \"semantic_type\": \"\",\n        \"description\": \"\"\n      }\n    },\n    {\n      \"column\": \"Humor Geral\",\n      \"properties\": {\n        \"dtype\": \"number\",\n        \"std\": 1,\n        \"min\": 4,\n        \"max\": 9,\n        \"num_unique_values\": 6,\n        \"samples\": [\n          4,\n          7,\n          5\n        ],\n        \"semantic_type\": \"\",\n        \"description\": \"\"\n      }\n    },\n    {\n      \"column\": \"Qualidade de sono\",\n      \"properties\": {\n        \"dtype\": \"number\",\n        \"std\": 1,\n        \"min\": 3,\n        \"max\": 9,\n        \"num_unique_values\": 5,\n        \"samples\": [\n          6,\n          8,\n          9\n        ],\n        \"semantic_type\": \"\",\n        \"description\": \"\"\n      }\n    },\n    {\n      \"column\": \"Atividade F\\u00edsica \",\n      \"properties\": {\n        \"dtype\": \"category\",\n        \"num_unique_values\": 2,\n        \"samples\": [\n          \"N\\u00e3o\",\n          \"Sim\"\n        ],\n        \"semantic_type\": \"\",\n        \"description\": \"\"\n      }\n    },\n    {\n      \"column\": \"Intera\\u00e7\\u00e3o Social\",\n      \"properties\": {\n        \"dtype\": \"category\",\n        \"num_unique_values\": 3,\n        \"samples\": [\n          \"Moderada\",\n          \"Muita\"\n        ],\n        \"semantic_type\": \"\",\n        \"description\": \"\"\n      }\n    },\n    {\n      \"column\": \"Sentimento predominanete\",\n      \"properties\": {\n        \"dtype\": \"category\",\n        \"num_unique_values\": 3,\n        \"samples\": [\n          \"Ansiedade\",\n          \"Alegria\"\n        ],\n        \"semantic_type\": \"\",\n        \"description\": \"\"\n      }\n    },\n    {\n      \"column\": \"Quantidade de horas de sono\",\n      \"properties\": {\n        \"dtype\": \"number\",\n        \"std\": 1,\n        \"min\": 4,\n        \"max\": 10,\n        \"num_unique_values\": 7,\n        \"samples\": [\n          5,\n          6\n        ],\n        \"semantic_type\": \"\",\n        \"description\": \"\"\n      }\n    },\n    {\n      \"column\": \"Alimenta\\u00e7\\u00e3o\",\n      \"properties\": {\n        \"dtype\": \"category\",\n        \"num_unique_values\": 3,\n        \"samples\": [\n          \"Ruim\",\n          \"Moderada\"\n        ],\n        \"semantic_type\": \"\",\n        \"description\": \"\"\n      }\n    },\n    {\n      \"column\": \"Relex\\u00f5es e coment\\u00e1rios\",\n      \"properties\": {\n        \"dtype\": \"string\",\n        \"num_unique_values\": 19,\n        \"samples\": [\n          \"Estou muito triste\",\n          \"Estou tranquilo\"\n        ],\n        \"semantic_type\": \"\",\n        \"description\": \"\"\n      }\n    },\n    {\n      \"column\": \"Cansa\\u00e7o\",\n      \"properties\": {\n        \"dtype\": \"category\",\n        \"num_unique_values\": 2,\n        \"samples\": [\n          \"N\\u00e3o\",\n          \"Sim\"\n        ],\n        \"semantic_type\": \"\",\n        \"description\": \"\"\n      }\n    }\n  ]\n}"
            }
          },
          "metadata": {},
          "execution_count": 27
        }
      ]
    },
    {
      "cell_type": "code",
      "source": [
        "df.rename(columns = {'Atividade Física ':'Atividade Fisica'}, inplace = True)\n",
        "print(df.columns)"
      ],
      "metadata": {
        "colab": {
          "base_uri": "https://localhost:8080/"
        },
        "id": "8jkwIObGsukM",
        "outputId": "15f27df7-3145-4ced-bbe2-37684dad4d7e"
      },
      "execution_count": 3,
      "outputs": [
        {
          "output_type": "stream",
          "name": "stdout",
          "text": [
            "Index(['Data', 'Humor Geral', 'Qualidade de sono', 'Atividade Fisica',\n",
            "       'Interação Social', 'Sentimento predominanete',\n",
            "       'Quantidade de horas de sono', 'Alimentação', 'Relexões e comentários',\n",
            "       'Cansaço'],\n",
            "      dtype='object')\n"
          ]
        }
      ]
    },
    {
      "cell_type": "markdown",
      "source": [
        "$$\n",
        "\\text{Relative Frequency} = \\frac{f}{n}\n",
        "$$"
      ],
      "metadata": {
        "id": "kih6_6rA7Ugb"
      }
    },
    {
      "cell_type": "code",
      "source": [
        "frequency_table = df['Atividade Fisica'].value_counts()\n",
        "frequency_table['Total'] = frequency_table.sum()\n",
        "frequency_table"
      ],
      "metadata": {
        "colab": {
          "base_uri": "https://localhost:8080/",
          "height": 210
        },
        "id": "z3XAa9Q-syGL",
        "outputId": "b69c0506-f979-4d34-dd55-18e0f4ac832a"
      },
      "execution_count": 4,
      "outputs": [
        {
          "output_type": "execute_result",
          "data": {
            "text/plain": [
              "Atividade Fisica\n",
              "Sim      15\n",
              "Não       6\n",
              "Total    21\n",
              "Name: count, dtype: int64"
            ],
            "text/html": [
              "<div>\n",
              "<style scoped>\n",
              "    .dataframe tbody tr th:only-of-type {\n",
              "        vertical-align: middle;\n",
              "    }\n",
              "\n",
              "    .dataframe tbody tr th {\n",
              "        vertical-align: top;\n",
              "    }\n",
              "\n",
              "    .dataframe thead th {\n",
              "        text-align: right;\n",
              "    }\n",
              "</style>\n",
              "<table border=\"1\" class=\"dataframe\">\n",
              "  <thead>\n",
              "    <tr style=\"text-align: right;\">\n",
              "      <th></th>\n",
              "      <th>count</th>\n",
              "    </tr>\n",
              "    <tr>\n",
              "      <th>Atividade Fisica</th>\n",
              "      <th></th>\n",
              "    </tr>\n",
              "  </thead>\n",
              "  <tbody>\n",
              "    <tr>\n",
              "      <th>Sim</th>\n",
              "      <td>15</td>\n",
              "    </tr>\n",
              "    <tr>\n",
              "      <th>Não</th>\n",
              "      <td>6</td>\n",
              "    </tr>\n",
              "    <tr>\n",
              "      <th>Total</th>\n",
              "      <td>21</td>\n",
              "    </tr>\n",
              "  </tbody>\n",
              "</table>\n",
              "</div><br><label><b>dtype:</b> int64</label>"
            ]
          },
          "metadata": {},
          "execution_count": 4
        }
      ]
    },
    {
      "cell_type": "code",
      "source": [
        "percentage = (frequency_table / frequency_table['Total']) * 100\n",
        "percentage"
      ],
      "metadata": {
        "colab": {
          "base_uri": "https://localhost:8080/",
          "height": 210
        },
        "id": "_BLqzgj9tRVt",
        "outputId": "3063f6a2-cf15-4c40-b62c-72edcc738be4"
      },
      "execution_count": 5,
      "outputs": [
        {
          "output_type": "execute_result",
          "data": {
            "text/plain": [
              "Atividade Fisica\n",
              "Sim       71.428571\n",
              "Não       28.571429\n",
              "Total    100.000000\n",
              "Name: count, dtype: float64"
            ],
            "text/html": [
              "<div>\n",
              "<style scoped>\n",
              "    .dataframe tbody tr th:only-of-type {\n",
              "        vertical-align: middle;\n",
              "    }\n",
              "\n",
              "    .dataframe tbody tr th {\n",
              "        vertical-align: top;\n",
              "    }\n",
              "\n",
              "    .dataframe thead th {\n",
              "        text-align: right;\n",
              "    }\n",
              "</style>\n",
              "<table border=\"1\" class=\"dataframe\">\n",
              "  <thead>\n",
              "    <tr style=\"text-align: right;\">\n",
              "      <th></th>\n",
              "      <th>count</th>\n",
              "    </tr>\n",
              "    <tr>\n",
              "      <th>Atividade Fisica</th>\n",
              "      <th></th>\n",
              "    </tr>\n",
              "  </thead>\n",
              "  <tbody>\n",
              "    <tr>\n",
              "      <th>Sim</th>\n",
              "      <td>71.428571</td>\n",
              "    </tr>\n",
              "    <tr>\n",
              "      <th>Não</th>\n",
              "      <td>28.571429</td>\n",
              "    </tr>\n",
              "    <tr>\n",
              "      <th>Total</th>\n",
              "      <td>100.000000</td>\n",
              "    </tr>\n",
              "  </tbody>\n",
              "</table>\n",
              "</div><br><label><b>dtype:</b> float64</label>"
            ]
          },
          "metadata": {},
          "execution_count": 5
        }
      ]
    },
    {
      "cell_type": "code",
      "source": [
        "difference = frequency_table['Sim'] - frequency_table['Não']\n",
        "proportion = difference / frequency_table['Total']\n",
        "print(f\"A diferença do número de dias que houve atividade fisica é {difference} dias e a proporção do que isso representa é de {proportion:.2f}\")"
      ],
      "metadata": {
        "colab": {
          "base_uri": "https://localhost:8080/"
        },
        "id": "1YDtdES2s1cm",
        "outputId": "52884362-8714-4c1f-f09f-56cf5ad7cb38"
      },
      "execution_count": 6,
      "outputs": [
        {
          "output_type": "stream",
          "name": "stdout",
          "text": [
            "A diferença do número de dias que houve atividade fisica é 9 dias e a proporção do que isso representa é de 0.43\n"
          ]
        }
      ]
    },
    {
      "cell_type": "code",
      "source": [
        "frequency_sentimento = df['Sentimento predominanete'].value_counts()\n",
        "freq_total = frequency_sentimento.sum()\n",
        "print(f\"Frequência total de dias:{freq_total}\")"
      ],
      "metadata": {
        "colab": {
          "base_uri": "https://localhost:8080/"
        },
        "id": "3pNHmByMs4ki",
        "outputId": "7930aa5f-08a6-4bdf-82eb-8bd8610d3e95"
      },
      "execution_count": 7,
      "outputs": [
        {
          "output_type": "stream",
          "name": "stdout",
          "text": [
            "Frequência total de dias:21\n"
          ]
        }
      ]
    },
    {
      "cell_type": "code",
      "source": [
        "percentage_sentimento = pd.DataFrame(index=frequency_sentimento.index)\n",
        "percentage_sentimento['Porcentagem'] = (frequency_sentimento / freq_total) * 100\n",
        "frequency_sentimento = pd.concat([frequency_sentimento, percentage_sentimento], axis=1)\n",
        "\n",
        "frequency_sentimento['Diferença da Porcentagem Total'] = frequency_sentimento['Porcentagem'] - percentage_sentimento['Porcentagem'].sum()\n",
        "\n",
        "frequency_sentimento"
      ],
      "metadata": {
        "colab": {
          "base_uri": "https://localhost:8080/",
          "height": 175
        },
        "id": "sPt57Cpsx1JQ",
        "outputId": "68a5ebeb-3ddf-422a-d34a-a5439d5fe8d2"
      },
      "execution_count": 8,
      "outputs": [
        {
          "output_type": "execute_result",
          "data": {
            "text/plain": [
              "                          count  Porcentagem  Diferença da Porcentagem Total\n",
              "Sentimento predominanete                                                    \n",
              "Alegria                       9    42.857143                      -57.142857\n",
              "Depressão                     7    33.333333                      -66.666667\n",
              "Ansiedade                     5    23.809524                      -76.190476"
            ],
            "text/html": [
              "\n",
              "  <div id=\"df-dc83c0fb-2ce7-4b19-90c2-37ddf818047f\" class=\"colab-df-container\">\n",
              "    <div>\n",
              "<style scoped>\n",
              "    .dataframe tbody tr th:only-of-type {\n",
              "        vertical-align: middle;\n",
              "    }\n",
              "\n",
              "    .dataframe tbody tr th {\n",
              "        vertical-align: top;\n",
              "    }\n",
              "\n",
              "    .dataframe thead th {\n",
              "        text-align: right;\n",
              "    }\n",
              "</style>\n",
              "<table border=\"1\" class=\"dataframe\">\n",
              "  <thead>\n",
              "    <tr style=\"text-align: right;\">\n",
              "      <th></th>\n",
              "      <th>count</th>\n",
              "      <th>Porcentagem</th>\n",
              "      <th>Diferença da Porcentagem Total</th>\n",
              "    </tr>\n",
              "    <tr>\n",
              "      <th>Sentimento predominanete</th>\n",
              "      <th></th>\n",
              "      <th></th>\n",
              "      <th></th>\n",
              "    </tr>\n",
              "  </thead>\n",
              "  <tbody>\n",
              "    <tr>\n",
              "      <th>Alegria</th>\n",
              "      <td>9</td>\n",
              "      <td>42.857143</td>\n",
              "      <td>-57.142857</td>\n",
              "    </tr>\n",
              "    <tr>\n",
              "      <th>Depressão</th>\n",
              "      <td>7</td>\n",
              "      <td>33.333333</td>\n",
              "      <td>-66.666667</td>\n",
              "    </tr>\n",
              "    <tr>\n",
              "      <th>Ansiedade</th>\n",
              "      <td>5</td>\n",
              "      <td>23.809524</td>\n",
              "      <td>-76.190476</td>\n",
              "    </tr>\n",
              "  </tbody>\n",
              "</table>\n",
              "</div>\n",
              "    <div class=\"colab-df-buttons\">\n",
              "\n",
              "  <div class=\"colab-df-container\">\n",
              "    <button class=\"colab-df-convert\" onclick=\"convertToInteractive('df-dc83c0fb-2ce7-4b19-90c2-37ddf818047f')\"\n",
              "            title=\"Convert this dataframe to an interactive table.\"\n",
              "            style=\"display:none;\">\n",
              "\n",
              "  <svg xmlns=\"http://www.w3.org/2000/svg\" height=\"24px\" viewBox=\"0 -960 960 960\">\n",
              "    <path d=\"M120-120v-720h720v720H120Zm60-500h600v-160H180v160Zm220 220h160v-160H400v160Zm0 220h160v-160H400v160ZM180-400h160v-160H180v160Zm440 0h160v-160H620v160ZM180-180h160v-160H180v160Zm440 0h160v-160H620v160Z\"/>\n",
              "  </svg>\n",
              "    </button>\n",
              "\n",
              "  <style>\n",
              "    .colab-df-container {\n",
              "      display:flex;\n",
              "      gap: 12px;\n",
              "    }\n",
              "\n",
              "    .colab-df-convert {\n",
              "      background-color: #E8F0FE;\n",
              "      border: none;\n",
              "      border-radius: 50%;\n",
              "      cursor: pointer;\n",
              "      display: none;\n",
              "      fill: #1967D2;\n",
              "      height: 32px;\n",
              "      padding: 0 0 0 0;\n",
              "      width: 32px;\n",
              "    }\n",
              "\n",
              "    .colab-df-convert:hover {\n",
              "      background-color: #E2EBFA;\n",
              "      box-shadow: 0px 1px 2px rgba(60, 64, 67, 0.3), 0px 1px 3px 1px rgba(60, 64, 67, 0.15);\n",
              "      fill: #174EA6;\n",
              "    }\n",
              "\n",
              "    .colab-df-buttons div {\n",
              "      margin-bottom: 4px;\n",
              "    }\n",
              "\n",
              "    [theme=dark] .colab-df-convert {\n",
              "      background-color: #3B4455;\n",
              "      fill: #D2E3FC;\n",
              "    }\n",
              "\n",
              "    [theme=dark] .colab-df-convert:hover {\n",
              "      background-color: #434B5C;\n",
              "      box-shadow: 0px 1px 3px 1px rgba(0, 0, 0, 0.15);\n",
              "      filter: drop-shadow(0px 1px 2px rgba(0, 0, 0, 0.3));\n",
              "      fill: #FFFFFF;\n",
              "    }\n",
              "  </style>\n",
              "\n",
              "    <script>\n",
              "      const buttonEl =\n",
              "        document.querySelector('#df-dc83c0fb-2ce7-4b19-90c2-37ddf818047f button.colab-df-convert');\n",
              "      buttonEl.style.display =\n",
              "        google.colab.kernel.accessAllowed ? 'block' : 'none';\n",
              "\n",
              "      async function convertToInteractive(key) {\n",
              "        const element = document.querySelector('#df-dc83c0fb-2ce7-4b19-90c2-37ddf818047f');\n",
              "        const dataTable =\n",
              "          await google.colab.kernel.invokeFunction('convertToInteractive',\n",
              "                                                    [key], {});\n",
              "        if (!dataTable) return;\n",
              "\n",
              "        const docLinkHtml = 'Like what you see? Visit the ' +\n",
              "          '<a target=\"_blank\" href=https://colab.research.google.com/notebooks/data_table.ipynb>data table notebook</a>'\n",
              "          + ' to learn more about interactive tables.';\n",
              "        element.innerHTML = '';\n",
              "        dataTable['output_type'] = 'display_data';\n",
              "        await google.colab.output.renderOutput(dataTable, element);\n",
              "        const docLink = document.createElement('div');\n",
              "        docLink.innerHTML = docLinkHtml;\n",
              "        element.appendChild(docLink);\n",
              "      }\n",
              "    </script>\n",
              "  </div>\n",
              "\n",
              "\n",
              "<div id=\"df-9a215ea3-c886-409d-8bab-7a27a630c1fa\">\n",
              "  <button class=\"colab-df-quickchart\" onclick=\"quickchart('df-9a215ea3-c886-409d-8bab-7a27a630c1fa')\"\n",
              "            title=\"Suggest charts\"\n",
              "            style=\"display:none;\">\n",
              "\n",
              "<svg xmlns=\"http://www.w3.org/2000/svg\" height=\"24px\"viewBox=\"0 0 24 24\"\n",
              "     width=\"24px\">\n",
              "    <g>\n",
              "        <path d=\"M19 3H5c-1.1 0-2 .9-2 2v14c0 1.1.9 2 2 2h14c1.1 0 2-.9 2-2V5c0-1.1-.9-2-2-2zM9 17H7v-7h2v7zm4 0h-2V7h2v10zm4 0h-2v-4h2v4z\"/>\n",
              "    </g>\n",
              "</svg>\n",
              "  </button>\n",
              "\n",
              "<style>\n",
              "  .colab-df-quickchart {\n",
              "      --bg-color: #E8F0FE;\n",
              "      --fill-color: #1967D2;\n",
              "      --hover-bg-color: #E2EBFA;\n",
              "      --hover-fill-color: #174EA6;\n",
              "      --disabled-fill-color: #AAA;\n",
              "      --disabled-bg-color: #DDD;\n",
              "  }\n",
              "\n",
              "  [theme=dark] .colab-df-quickchart {\n",
              "      --bg-color: #3B4455;\n",
              "      --fill-color: #D2E3FC;\n",
              "      --hover-bg-color: #434B5C;\n",
              "      --hover-fill-color: #FFFFFF;\n",
              "      --disabled-bg-color: #3B4455;\n",
              "      --disabled-fill-color: #666;\n",
              "  }\n",
              "\n",
              "  .colab-df-quickchart {\n",
              "    background-color: var(--bg-color);\n",
              "    border: none;\n",
              "    border-radius: 50%;\n",
              "    cursor: pointer;\n",
              "    display: none;\n",
              "    fill: var(--fill-color);\n",
              "    height: 32px;\n",
              "    padding: 0;\n",
              "    width: 32px;\n",
              "  }\n",
              "\n",
              "  .colab-df-quickchart:hover {\n",
              "    background-color: var(--hover-bg-color);\n",
              "    box-shadow: 0 1px 2px rgba(60, 64, 67, 0.3), 0 1px 3px 1px rgba(60, 64, 67, 0.15);\n",
              "    fill: var(--button-hover-fill-color);\n",
              "  }\n",
              "\n",
              "  .colab-df-quickchart-complete:disabled,\n",
              "  .colab-df-quickchart-complete:disabled:hover {\n",
              "    background-color: var(--disabled-bg-color);\n",
              "    fill: var(--disabled-fill-color);\n",
              "    box-shadow: none;\n",
              "  }\n",
              "\n",
              "  .colab-df-spinner {\n",
              "    border: 2px solid var(--fill-color);\n",
              "    border-color: transparent;\n",
              "    border-bottom-color: var(--fill-color);\n",
              "    animation:\n",
              "      spin 1s steps(1) infinite;\n",
              "  }\n",
              "\n",
              "  @keyframes spin {\n",
              "    0% {\n",
              "      border-color: transparent;\n",
              "      border-bottom-color: var(--fill-color);\n",
              "      border-left-color: var(--fill-color);\n",
              "    }\n",
              "    20% {\n",
              "      border-color: transparent;\n",
              "      border-left-color: var(--fill-color);\n",
              "      border-top-color: var(--fill-color);\n",
              "    }\n",
              "    30% {\n",
              "      border-color: transparent;\n",
              "      border-left-color: var(--fill-color);\n",
              "      border-top-color: var(--fill-color);\n",
              "      border-right-color: var(--fill-color);\n",
              "    }\n",
              "    40% {\n",
              "      border-color: transparent;\n",
              "      border-right-color: var(--fill-color);\n",
              "      border-top-color: var(--fill-color);\n",
              "    }\n",
              "    60% {\n",
              "      border-color: transparent;\n",
              "      border-right-color: var(--fill-color);\n",
              "    }\n",
              "    80% {\n",
              "      border-color: transparent;\n",
              "      border-right-color: var(--fill-color);\n",
              "      border-bottom-color: var(--fill-color);\n",
              "    }\n",
              "    90% {\n",
              "      border-color: transparent;\n",
              "      border-bottom-color: var(--fill-color);\n",
              "    }\n",
              "  }\n",
              "</style>\n",
              "\n",
              "  <script>\n",
              "    async function quickchart(key) {\n",
              "      const quickchartButtonEl =\n",
              "        document.querySelector('#' + key + ' button');\n",
              "      quickchartButtonEl.disabled = true;  // To prevent multiple clicks.\n",
              "      quickchartButtonEl.classList.add('colab-df-spinner');\n",
              "      try {\n",
              "        const charts = await google.colab.kernel.invokeFunction(\n",
              "            'suggestCharts', [key], {});\n",
              "      } catch (error) {\n",
              "        console.error('Error during call to suggestCharts:', error);\n",
              "      }\n",
              "      quickchartButtonEl.classList.remove('colab-df-spinner');\n",
              "      quickchartButtonEl.classList.add('colab-df-quickchart-complete');\n",
              "    }\n",
              "    (() => {\n",
              "      let quickchartButtonEl =\n",
              "        document.querySelector('#df-9a215ea3-c886-409d-8bab-7a27a630c1fa button');\n",
              "      quickchartButtonEl.style.display =\n",
              "        google.colab.kernel.accessAllowed ? 'block' : 'none';\n",
              "    })();\n",
              "  </script>\n",
              "</div>\n",
              "\n",
              "  <div id=\"id_b27f92cb-c51b-475c-86ea-268821289bd2\">\n",
              "    <style>\n",
              "      .colab-df-generate {\n",
              "        background-color: #E8F0FE;\n",
              "        border: none;\n",
              "        border-radius: 50%;\n",
              "        cursor: pointer;\n",
              "        display: none;\n",
              "        fill: #1967D2;\n",
              "        height: 32px;\n",
              "        padding: 0 0 0 0;\n",
              "        width: 32px;\n",
              "      }\n",
              "\n",
              "      .colab-df-generate:hover {\n",
              "        background-color: #E2EBFA;\n",
              "        box-shadow: 0px 1px 2px rgba(60, 64, 67, 0.3), 0px 1px 3px 1px rgba(60, 64, 67, 0.15);\n",
              "        fill: #174EA6;\n",
              "      }\n",
              "\n",
              "      [theme=dark] .colab-df-generate {\n",
              "        background-color: #3B4455;\n",
              "        fill: #D2E3FC;\n",
              "      }\n",
              "\n",
              "      [theme=dark] .colab-df-generate:hover {\n",
              "        background-color: #434B5C;\n",
              "        box-shadow: 0px 1px 3px 1px rgba(0, 0, 0, 0.15);\n",
              "        filter: drop-shadow(0px 1px 2px rgba(0, 0, 0, 0.3));\n",
              "        fill: #FFFFFF;\n",
              "      }\n",
              "    </style>\n",
              "    <button class=\"colab-df-generate\" onclick=\"generateWithVariable('frequency_sentimento')\"\n",
              "            title=\"Generate code using this dataframe.\"\n",
              "            style=\"display:none;\">\n",
              "\n",
              "  <svg xmlns=\"http://www.w3.org/2000/svg\" height=\"24px\"viewBox=\"0 0 24 24\"\n",
              "       width=\"24px\">\n",
              "    <path d=\"M7,19H8.4L18.45,9,17,7.55,7,17.6ZM5,21V16.75L18.45,3.32a2,2,0,0,1,2.83,0l1.4,1.43a1.91,1.91,0,0,1,.58,1.4,1.91,1.91,0,0,1-.58,1.4L9.25,21ZM18.45,9,17,7.55Zm-12,3A5.31,5.31,0,0,0,4.9,8.1,5.31,5.31,0,0,0,1,6.5,5.31,5.31,0,0,0,4.9,4.9,5.31,5.31,0,0,0,6.5,1,5.31,5.31,0,0,0,8.1,4.9,5.31,5.31,0,0,0,12,6.5,5.46,5.46,0,0,0,6.5,12Z\"/>\n",
              "  </svg>\n",
              "    </button>\n",
              "    <script>\n",
              "      (() => {\n",
              "      const buttonEl =\n",
              "        document.querySelector('#id_b27f92cb-c51b-475c-86ea-268821289bd2 button.colab-df-generate');\n",
              "      buttonEl.style.display =\n",
              "        google.colab.kernel.accessAllowed ? 'block' : 'none';\n",
              "\n",
              "      buttonEl.onclick = () => {\n",
              "        google.colab.notebook.generateWithVariable('frequency_sentimento');\n",
              "      }\n",
              "      })();\n",
              "    </script>\n",
              "  </div>\n",
              "\n",
              "    </div>\n",
              "  </div>\n"
            ],
            "application/vnd.google.colaboratory.intrinsic+json": {
              "type": "dataframe",
              "variable_name": "frequency_sentimento",
              "summary": "{\n  \"name\": \"frequency_sentimento\",\n  \"rows\": 3,\n  \"fields\": [\n    {\n      \"column\": \"Sentimento predominanete\",\n      \"properties\": {\n        \"dtype\": \"string\",\n        \"num_unique_values\": 3,\n        \"samples\": [\n          \"Alegria\",\n          \"Depress\\u00e3o\",\n          \"Ansiedade\"\n        ],\n        \"semantic_type\": \"\",\n        \"description\": \"\"\n      }\n    },\n    {\n      \"column\": \"count\",\n      \"properties\": {\n        \"dtype\": \"number\",\n        \"std\": 2,\n        \"min\": 5,\n        \"max\": 9,\n        \"num_unique_values\": 3,\n        \"samples\": [\n          9,\n          7,\n          5\n        ],\n        \"semantic_type\": \"\",\n        \"description\": \"\"\n      }\n    },\n    {\n      \"column\": \"Porcentagem\",\n      \"properties\": {\n        \"dtype\": \"number\",\n        \"std\": 9.523809523809524,\n        \"min\": 23.809523809523807,\n        \"max\": 42.857142857142854,\n        \"num_unique_values\": 3,\n        \"samples\": [\n          42.857142857142854,\n          33.33333333333333,\n          23.809523809523807\n        ],\n        \"semantic_type\": \"\",\n        \"description\": \"\"\n      }\n    },\n    {\n      \"column\": \"Diferen\\u00e7a da Porcentagem Total\",\n      \"properties\": {\n        \"dtype\": \"number\",\n        \"std\": 9.523809523809522,\n        \"min\": -76.19047619047618,\n        \"max\": -57.14285714285713,\n        \"num_unique_values\": 3,\n        \"samples\": [\n          -57.14285714285713,\n          -66.66666666666666,\n          -76.19047619047618\n        ],\n        \"semantic_type\": \"\",\n        \"description\": \"\"\n      }\n    }\n  ]\n}"
            }
          },
          "metadata": {},
          "execution_count": 8
        }
      ]
    },
    {
      "cell_type": "markdown",
      "source": [
        "# The sample mean formula\n",
        "$$\n",
        "\\bar{X} = \\frac{\\sum X}{N}\n",
        "$$"
      ],
      "metadata": {
        "id": "jaFIVBbi6jEY"
      }
    },
    {
      "cell_type": "code",
      "source": [
        "moodmean = np.mean(df['Humor Geral'])\n",
        "print('mean of mood:', moodmean)\n",
        "\n",
        "sqmean = np.mean(df['Qualidade de sono'])\n",
        "print('mean of sleep quality: ', sqmean)\n",
        "\n",
        "squantitymean = np.mean(df['Quantidade de horas de sono'])\n",
        "print('mean of sleep hours:', squantitymean)"
      ],
      "metadata": {
        "colab": {
          "base_uri": "https://localhost:8080/"
        },
        "id": "JgPDwhbnnSEq",
        "outputId": "d2735c5a-c369-4d11-dc5f-9de449ad84aa"
      },
      "execution_count": 9,
      "outputs": [
        {
          "output_type": "stream",
          "name": "stdout",
          "text": [
            "mean of mood: 6.809523809523809\n",
            "mean of sleep quality:  7.0\n",
            "mean of sleep hours: 6.9523809523809526\n"
          ]
        }
      ]
    },
    {
      "cell_type": "markdown",
      "source": [
        "# The median formula\n",
        "$$\n",
        "\\text{Median} = \\frac{n + 1}{2}\n",
        "$$"
      ],
      "metadata": {
        "id": "i8EpigN68KVU"
      }
    },
    {
      "cell_type": "code",
      "source": [
        "moodmedian = np.median(df['Humor Geral'])\n",
        "print('median of mood:', moodmean)\n",
        "\n",
        "sqmedian = np.median(df['Qualidade de sono'])\n",
        "print('median of sleep quality: ', sqmean)\n",
        "\n",
        "squantitymedian = np.median(df['Quantidade de horas de sono'])\n",
        "print('median of sleep hours:', squantitymean)"
      ],
      "metadata": {
        "colab": {
          "base_uri": "https://localhost:8080/"
        },
        "id": "EiaX4tSp_d4y",
        "outputId": "86ff645e-bb95-4780-d562-177958834a6f"
      },
      "execution_count": 10,
      "outputs": [
        {
          "output_type": "stream",
          "name": "stdout",
          "text": [
            "median of mood: 6.809523809523809\n",
            "median of sleep quality:  7.0\n",
            "median of sleep hours: 6.9523809523809526\n"
          ]
        }
      ]
    },
    {
      "cell_type": "code",
      "source": [
        "plt.hist(df['Humor Geral'], bins=6, color='skyblue', edgecolor='black')\n",
        "plt.xlabel('Values')\n",
        "plt.ylabel('Frequency')\n",
        "plt.title('Histogram of mood')\n",
        "plt.show()"
      ],
      "metadata": {
        "colab": {
          "base_uri": "https://localhost:8080/",
          "height": 472
        },
        "id": "2zc-kT-N1221",
        "outputId": "e3142884-71a2-414c-8745-57d98ad21543"
      },
      "execution_count": 11,
      "outputs": [
        {
          "output_type": "display_data",
          "data": {
            "text/plain": [
              "<Figure size 640x480 with 1 Axes>"
            ],
            "image/png": "[encoded data removed]"
          },
          "metadata": {}
        }
      ]
    },
    {
      "cell_type": "markdown",
      "source": [
        "* As we can see the data are skewed to left side, which the mean is smaller compared to the median"
      ],
      "metadata": {
        "id": "SRsY8lWxTkvn"
      }
    },
    {
      "cell_type": "markdown",
      "source": [
        "# Standard deviation formula\n",
        "$$\n",
        "s = \\sqrt{\\frac{\\sum (x - \\bar{x})^2}{n - 1}}\n",
        "$$"
      ],
      "metadata": {
        "id": "_DpNxf7XTMs5"
      }
    },
    {
      "cell_type": "markdown",
      "source": [
        "* Using numpy"
      ],
      "metadata": {
        "id": "Nk_E_PPtXUhT"
      }
    },
    {
      "cell_type": "code",
      "source": [
        "sample_std = np.std(df['Humor Geral'], ddof=1)\n",
        "print('Standard deviation of mood: ', sample_std)"
      ],
      "metadata": {
        "id": "dwquG2plBOUK",
        "colab": {
          "base_uri": "https://localhost:8080/"
        },
        "outputId": "c82345f4-85c8-47a2-e15b-f6d00444293a"
      },
      "execution_count": 12,
      "outputs": [
        {
          "output_type": "stream",
          "name": "stdout",
          "text": [
            "Standard deviation of mood:  1.3645163106041502\n"
          ]
        }
      ]
    },
    {
      "cell_type": "markdown",
      "source": [
        "* Function"
      ],
      "metadata": {
        "id": "I8oqSc1-XMTb"
      }
    },
    {
      "cell_type": "code",
      "source": [
        "# Put the data into a variable\n",
        "data = df['Humor Geral']\n",
        "\n",
        "def standard_deviation(data, ddof=0):\n",
        "  # Calculate th mean of the data\n",
        "  mean_data = sum(data) / len(data)\n",
        "  # Calculate the squared differences for each data and mean\n",
        "  squared_diffs = [(x - mean_data) ** 2 for x in data]\n",
        "  # Calculate the average of the squared differences\n",
        "  variance= sum(squared_diffs) / (len(squared_diffs) - ddof)\n",
        "  # Calculate the square root of the variance\n",
        "  stddev = variance ** 0.5\n",
        "  return stddev"
      ],
      "metadata": {
        "id": "fVd83ukdUf8Q"
      },
      "execution_count": 13,
      "outputs": []
    },
    {
      "cell_type": "code",
      "source": [
        "sample_std_func = standard_deviation(data, ddof=1)\n",
        "std_sleep_quality = standard_deviation(df['Qualidade de sono'], ddof=1)\n",
        "print('Standard deviation of mood: ', sample_std_func)\n",
        "print('Standard deviation of Sleep quality: ', std_sleep_quality)"
      ],
      "metadata": {
        "colab": {
          "base_uri": "https://localhost:8080/"
        },
        "id": "olfYkkmmW1hf",
        "outputId": "392b100b-faf1-4498-9524-62862cd995b0"
      },
      "execution_count": 14,
      "outputs": [
        {
          "output_type": "stream",
          "name": "stdout",
          "text": [
            "Standard deviation of mood:  1.3645163106041502\n",
            "Standard deviation of Sleep quality:  1.3416407864998738\n"
          ]
        }
      ]
    },
    {
      "cell_type": "markdown",
      "source": [
        "* basically this means a small standard deviation that the values in data set are close to the mean of the data set, on average"
      ],
      "metadata": {
        "id": "9U_RtibkYfR9"
      }
    },
    {
      "cell_type": "markdown",
      "source": [
        "# Properties of standard deviation\n",
        "\n",
        "- Can never be a negative number due to calculating the distances\n",
        "\n",
        "- It is affected by outliers, it based on the distance from the mean\n",
        "\n",
        "- Has the same units as the original data"
      ],
      "metadata": {
        "id": "LYSuYQvXZydg"
      }
    },
    {
      "cell_type": "markdown",
      "source": [
        "# Normal distribution"
      ],
      "metadata": {
        "id": "kNu6Q7e_lwmV"
      }
    },
    {
      "cell_type": "code",
      "source": [
        "print(f\"Standard deviation of mood: \", sample_std)\n",
        "print(f\"Mood mean: \", moodmean)"
      ],
      "metadata": {
        "colab": {
          "base_uri": "https://localhost:8080/"
        },
        "id": "c-qIy43blcor",
        "outputId": "310f852a-f5e9-45f2-f141-1bb08156c276"
      },
      "execution_count": 15,
      "outputs": [
        {
          "output_type": "stream",
          "name": "stdout",
          "text": [
            "Standard deviation of mood:  1.3645163106041502\n",
            "Mood mean:  6.809523809523809\n"
          ]
        }
      ]
    },
    {
      "cell_type": "code",
      "source": [
        "plt.figure(figsize=(10, 6))\n",
        "mood_hist = sns.histplot(df['Humor Geral'], kde=False, color='skyblue', bins=6, stat='density')\n",
        "\n",
        "x = np.linspace(df['Humor Geral'].min(), df['Humor Geral'].max())\n",
        "y = norm.pdf(x, loc=moodmean, scale=sample_std)\n",
        "\n",
        "mood_hist.plot(x, y, color='red', label='Normal Distribution')\n",
        "\n",
        "plt.xlabel('Humor Geral', fontsize=12)\n",
        "plt.ylabel('Density', fontsize=12)\n",
        "plt.legend()\n",
        "plt.show()"
      ],
      "metadata": {
        "colab": {
          "base_uri": "https://localhost:8080/",
          "height": 546
        },
        "id": "wfN3mz67pwtT",
        "outputId": "0fd237f7-cd1f-4a52-e7e6-21e453b14064"
      },
      "execution_count": 16,
      "outputs": [
        {
          "output_type": "display_data",
          "data": {
            "text/plain": [
              "<Figure size 1000x600 with 1 Axes>"
            ],
            "image/png": "[encoded data removed]"
          },
          "metadata": {}
        }
      ]
    },
    {
      "cell_type": "markdown",
      "source": [
        "* the median describes center more fairly than\n",
        "the mean when the data is skewed"
      ],
      "metadata": {
        "id": "xmfhftxzUnvN"
      }
    },
    {
      "cell_type": "markdown",
      "source": [
        "# Evaluating the normal distribution through probability plot"
      ],
      "metadata": {
        "id": "6O9bRhxvsCvf"
      }
    },
    {
      "cell_type": "markdown",
      "source": [
        "* One way to analyze how close the histogram is to the curve involves constructing a normal probability plot(Q-Q plot - quantile-quantile)"
      ],
      "metadata": {
        "id": "5YmwyrqjvXLL"
      }
    },
    {
      "cell_type": "markdown",
      "source": [
        "* Any deviation from normality leads to deviations of these points from the line. the points general mood tend to follow the line but with some errant points toward the tails. To simulate the dat that came from a normal a normal distribution"
      ],
      "metadata": {
        "id": "lmzdHT9k7zso"
      }
    },
    {
      "cell_type": "code",
      "source": [
        "sim_norm_8 = []\n",
        "for i in range(8):\n",
        "    sim_norm_8.append(np.random.normal(size = len(df['Humor Geral']), loc=moodmean, scale=sample_std))\n",
        "\n",
        "plt.rcParams['figure.figsize'] = (15, 15)\n",
        "plt.tight_layout(pad = 1)\n",
        "plt.subplots_adjust(hspace = 0.6, wspace = 0.6)\n",
        "\n",
        "plt.subplot(3, 3, 1)\n",
        "probplot(df['Humor Geral'], plot = plt)\n",
        "plt.title('Normal Q-Q Plot (Data)')\n",
        "\n",
        "plt.subplot(3, 3, 2)\n",
        "probplot(sim_norm_8[0], plot = plt)\n",
        "plt.title('Normal Q-Q Plot (Sim 1)')\n",
        "\n",
        "plt.subplot(3, 3, 3)\n",
        "probplot(sim_norm_8[1], plot = plt)\n",
        "plt.title('Normal Q-Q Plot (Sim 2)')\n",
        "\n",
        "plt.subplot(3, 3, 4)\n",
        "probplot(sim_norm_8[2], plot = plt)\n",
        "plt.title('Normal Q-Q Plot (Sim 3)')\n",
        "\n",
        "plt.subplot(3, 3, 5)\n",
        "probplot(sim_norm_8[3], plot = plt)\n",
        "plt.title('Normal Q-Q Plot (Sim 4)')\n",
        "\n",
        "plt.subplot(3, 3, 6)\n",
        "probplot(sim_norm_8[4], plot = plt)\n",
        "plt.title('Normal Q-Q Plot (Sim 5)')\n",
        "\n",
        "plt.subplot(3, 3, 7)\n",
        "probplot(sim_norm_8[5], plot = plt)\n",
        "plt.title('Normal Q-Q Plot (Sim 6)')\n",
        "\n",
        "plt.subplot(3, 3, 8)\n",
        "probplot(sim_norm_8[6], plot = plt)\n",
        "plt.title('Normal Q-Q Plot (Sim 7)')\n",
        "\n",
        "plt.subplot(3, 3, 9)\n",
        "probplot(sim_norm_8[7], plot = plt)\n",
        "plt.title('Normal Q-Q Plot (Sim 8)')\n",
        "\n",
        "plt.show();"
      ],
      "metadata": {
        "colab": {
          "base_uri": "https://localhost:8080/",
          "height": 1000
        },
        "id": "cvU6xtp3sgbC",
        "outputId": "ade53f50-2544-430c-a017-c67b4d7886c8"
      },
      "execution_count": 17,
      "outputs": [
        {
          "output_type": "display_data",
          "data": {
            "text/plain": [
              "<Figure size 1500x1500 with 9 Axes>"
            ],
            "image/png": "[encoded data removed]"
          },
          "metadata": {}
        }
      ]
    },
    {
      "cell_type": "markdown",
      "source": [
        "* Even better than comparing the original plot to a single plot generated from a normal distribution is to compare it to many more plots. In this case, we draw random samples from a normal distribution eight times, so we can construct eight different normal probability plots."
      ],
      "metadata": {
        "id": "AUSOFyE382br"
      }
    },
    {
      "cell_type": "markdown",
      "source": [
        "# Calculating percentiles"
      ],
      "metadata": {
        "id": "ef_D4HjfAm5l"
      }
    },
    {
      "cell_type": "markdown",
      "source": [
        "$$\n",
        "P = \\frac{X_n - 0.5}{N} \\times 100\n",
        "$$"
      ],
      "metadata": {
        "id": "jLFafnW5IDSm"
      }
    },
    {
      "cell_type": "code",
      "source": [
        "percentile_25 = np.percentile(df['Quantidade de horas de sono'], 25)\n",
        "print(\"25th percentile:\", percentile_25)\n",
        "\n",
        "percentile_50 = np.percentile(df['Quantidade de horas de sono'], 50)\n",
        "print(\"50th percentile (median):\", percentile_50)\n",
        "\n",
        "percentile_75 = np.percentile(df['Quantidade de horas de sono'], 75)\n",
        "print(\"75th percentile:\", percentile_75)"
      ],
      "metadata": {
        "colab": {
          "base_uri": "https://localhost:8080/"
        },
        "id": "t-2EvwOnCbe3",
        "outputId": "826b0569-2d17-44b6-bb47-4f8c1b6a9014"
      },
      "execution_count": 18,
      "outputs": [
        {
          "output_type": "stream",
          "name": "stdout",
          "text": [
            "25th percentile: 6.0\n",
            "50th percentile (median): 7.0\n",
            "75th percentile: 8.0\n"
          ]
        }
      ]
    },
    {
      "cell_type": "markdown",
      "source": [
        "* Manual sorting"
      ],
      "metadata": {
        "id": "zLoHD_HwD16i"
      }
    },
    {
      "cell_type": "code",
      "source": [
        "data_sorted = np.sort(df['Quantidade de horas de sono'])\n",
        "index = int(len(df['Quantidade de horas de sono']) * 0.25)\n",
        "percentile_25_manual = data_sorted[index]\n",
        "print(\"25th percentile (manual):\", percentile_25_manual)"
      ],
      "metadata": {
        "colab": {
          "base_uri": "https://localhost:8080/"
        },
        "id": "FvkD35DaCulA",
        "outputId": "1100ba9e-8a6c-48f4-c711-5e3dc7f18b39"
      },
      "execution_count": 19,
      "outputs": [
        {
          "output_type": "stream",
          "name": "stdout",
          "text": [
            "25th percentile (manual): 6\n"
          ]
        }
      ]
    },
    {
      "cell_type": "markdown",
      "source": [
        "* The five number summary is used when the data is not bell shaped, then we use a different set of statistics to describe the bigger picture"
      ],
      "metadata": {
        "id": "ck1aM09-N9js"
      }
    },
    {
      "cell_type": "code",
      "source": [
        "data = df['Qualidade de sono']\n",
        "\n",
        "quartiles = percentile(data, [25, 50, 75])\n",
        "data_min, data_max = data.min(), data.max()\n",
        "\n",
        "print(\"Five number summary\")\n",
        "print('Min: %.2f' % data_min)\n",
        "print('Q1: %.2f' % quartiles[0])\n",
        "print('Median: %.2f' % quartiles[1])\n",
        "print('Q3: %.2f' % quartiles[2])\n",
        "print('Max: %.2f' % data_max)"
      ],
      "metadata": {
        "colab": {
          "base_uri": "https://localhost:8080/"
        },
        "id": "EJA4P4ErNFAu",
        "outputId": "5a984dad-764e-45b9-c8da-591338cae719"
      },
      "execution_count": 30,
      "outputs": [
        {
          "output_type": "stream",
          "name": "stdout",
          "text": [
            "Five number summary\n",
            "Min: 3.00\n",
            "Q1: 6.00\n",
            "Median: 7.00\n",
            "Q3: 8.00\n",
            "Max: 9.00\n"
          ]
        }
      ]
    },
    {
      "cell_type": "markdown",
      "source": [
        "* To interpret the five number summary we can use boxplot."
      ],
      "metadata": {
        "id": "Rp7mRJv7RL4z"
      }
    },
    {
      "cell_type": "code",
      "source": [
        "plt.figure(figsize=(8, 6))\n",
        "sns.boxplot(data)\n",
        "plt.title('Boxplot of Sleep Quality')\n",
        "plt.show()"
      ],
      "metadata": {
        "colab": {
          "base_uri": "https://localhost:8080/",
          "height": 526
        },
        "id": "D-wo5KdgQnlE",
        "outputId": "31c56a6b-6650-4b2d-ab22-8e157de1afd7"
      },
      "execution_count": 33,
      "outputs": [
        {
          "output_type": "display_data",
          "data": {
            "text/plain": [
              "<Figure size 800x600 with 1 Axes>"
            ],
            "image/png": "[encoded data removed]"
          },
          "metadata": {}
        }
      ]
    },
    {
      "cell_type": "markdown",
      "source": [
        "* To measure the variation based on the five number summary, you can find Inter-quartile range or (IQR). Also it doesn't that outliers into account\n",
        "\n",
        "$$\n",
        "\\text{IQR} = Q_3 - Q_1\n",
        "$$"
      ],
      "metadata": {
        "id": "yfZnPdtIS_Gm"
      }
    },
    {
      "cell_type": "code",
      "source": [
        "quartile_25 = np.percentile(data, 25)\n",
        "quartile_75 = np.percentile(data, 75)\n",
        "iqr = quartile_75 - quartile_25\n",
        "print(\"IQR: %.2f\" % iqr)"
      ],
      "metadata": {
        "colab": {
          "base_uri": "https://localhost:8080/"
        },
        "id": "rzFlUBMRRVS2",
        "outputId": "0b64d649-7e3e-4a9b-b423-3b213b69f545"
      },
      "execution_count": 34,
      "outputs": [
        {
          "output_type": "stream",
          "name": "stdout",
          "text": [
            "IQR: 2.00\n"
          ]
        }
      ]
    },
    {
      "cell_type": "code",
      "source": [],
      "metadata": {
        "id": "0F61G70yRVQs"
      },
      "execution_count": null,
      "outputs": []
    },
    {
      "cell_type": "code",
      "source": [],
      "metadata": {
        "id": "9Y7JiRgFRVON"
      },
      "execution_count": null,
      "outputs": []
    },
    {
      "cell_type": "code",
      "source": [],
      "metadata": {
        "id": "gbewTptBRVLz"
      },
      "execution_count": null,
      "outputs": []
    },
    {
      "cell_type": "code",
      "source": [],
      "metadata": {
        "id": "LrMnIrfXRVJx"
      },
      "execution_count": null,
      "outputs": []
    },
    {
      "cell_type": "code",
      "source": [],
      "metadata": {
        "id": "rpwAtnUoRVHB"
      },
      "execution_count": null,
      "outputs": []
    }
  ]
}