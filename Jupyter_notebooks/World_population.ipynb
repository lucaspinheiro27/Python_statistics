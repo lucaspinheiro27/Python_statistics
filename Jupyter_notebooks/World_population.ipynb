{
 "cells": [
  {
   "cell_type": "code",
   "id": "initial_id",
   "metadata": {
    "collapsed": true,
    "ExecuteTime": {
     "end_time": "2025-01-24T20:30:06.762999Z",
     "start_time": "2025-01-24T20:30:06.760401Z"
    }
   },
   "source": [
    "import pandas as pd\n",
    "import numpy as np\n",
    "from scipy.stats import trim_mean\n",
    "import wquantiles\n",
    "from statsmodels.robust.scale import mad"
   ],
   "outputs": [],
   "execution_count": 468
  },
  {
   "metadata": {
    "ExecuteTime": {
     "end_time": "2025-01-24T20:30:06.930315Z",
     "start_time": "2025-01-24T20:30:06.886774Z"
    }
   },
   "cell_type": "code",
   "source": [
    "world_population = pd.read_csv('/home/satire/PycharmProjects/World_population/csv/world_population.csv')\n",
    "world_population"
   ],
   "id": "40b349980f1f3362",
   "outputs": [
    {
     "data": {
      "text/plain": [
       "     Rank CCA3  Country/Territory           Capital Continent  \\\n",
       "0      36  AFG        Afghanistan             Kabul      Asia   \n",
       "1     138  ALB            Albania            Tirana    Europe   \n",
       "2      34  DZA            Algeria           Algiers    Africa   \n",
       "3     213  ASM     American Samoa         Pago Pago   Oceania   \n",
       "4     203  AND            Andorra  Andorra la Vella    Europe   \n",
       "..    ...  ...                ...               ...       ...   \n",
       "229   226  WLF  Wallis and Futuna          Mata-Utu   Oceania   \n",
       "230   172  ESH     Western Sahara          El Aaiún    Africa   \n",
       "231    46  YEM              Yemen             Sanaa      Asia   \n",
       "232    63  ZMB             Zambia            Lusaka    Africa   \n",
       "233    74  ZWE           Zimbabwe            Harare    Africa   \n",
       "\n",
       "     2022 Population  2020 Population  2015 Population  2010 Population  \\\n",
       "0           41128771         38972230         33753499         28189672   \n",
       "1            2842321          2866849          2882481          2913399   \n",
       "2           44903225         43451666         39543154         35856344   \n",
       "3              44273            46189            51368            54849   \n",
       "4              79824            77700            71746            71519   \n",
       "..               ...              ...              ...              ...   \n",
       "229            11572            11655            12182            13142   \n",
       "230           575986           556048           491824           413296   \n",
       "231         33696614         32284046         28516545         24743946   \n",
       "232         20017675         18927715         16248230         13792086   \n",
       "233         16320537         15669666         14154937         12839771   \n",
       "\n",
       "     2000 Population  1990 Population  1980 Population  1970 Population  \\\n",
       "0           19542982         10694796         12486631         10752971   \n",
       "1            3182021          3295066          2941651          2324731   \n",
       "2           30774621         25518074         18739378         13795915   \n",
       "3              58230            47818            32886            27075   \n",
       "4              66097            53569            35611            19860   \n",
       "..               ...              ...              ...              ...   \n",
       "229            14723            13454            11315             9377   \n",
       "230           270375           178529           116775            76371   \n",
       "231         18628700         13375121          9204938          6843607   \n",
       "232          9891136          7686401          5720438          4281671   \n",
       "233         11834676         10113893          7049926          5202918   \n",
       "\n",
       "     Area (km²)  Density (per km²)  Growth Rate  World Population Percentage  \n",
       "0        652230            63.0587       1.0257                         0.52  \n",
       "1         28748            98.8702       0.9957                         0.04  \n",
       "2       2381741            18.8531       1.0164                         0.56  \n",
       "3           199           222.4774       0.9831                         0.00  \n",
       "4           468           170.5641       1.0100                         0.00  \n",
       "..          ...                ...          ...                          ...  \n",
       "229         142            81.4930       0.9953                         0.00  \n",
       "230      266000             2.1654       1.0184                         0.01  \n",
       "231      527968            63.8232       1.0217                         0.42  \n",
       "232      752612            26.5976       1.0280                         0.25  \n",
       "233      390757            41.7665       1.0204                         0.20  \n",
       "\n",
       "[234 rows x 17 columns]"
      ],
      "text/html": [
       "<div>\n",
       "<style scoped>\n",
       "    .dataframe tbody tr th:only-of-type {\n",
       "        vertical-align: middle;\n",
       "    }\n",
       "\n",
       "    .dataframe tbody tr th {\n",
       "        vertical-align: top;\n",
       "    }\n",
       "\n",
       "    .dataframe thead th {\n",
       "        text-align: right;\n",
       "    }\n",
       "</style>\n",
       "<table border=\"1\" class=\"dataframe\">\n",
       "  <thead>\n",
       "    <tr style=\"text-align: right;\">\n",
       "      <th></th>\n",
       "      <th>Rank</th>\n",
       "      <th>CCA3</th>\n",
       "      <th>Country/Territory</th>\n",
       "      <th>Capital</th>\n",
       "      <th>Continent</th>\n",
       "      <th>2022 Population</th>\n",
       "      <th>2020 Population</th>\n",
       "      <th>2015 Population</th>\n",
       "      <th>2010 Population</th>\n",
       "      <th>2000 Population</th>\n",
       "      <th>1990 Population</th>\n",
       "      <th>1980 Population</th>\n",
       "      <th>1970 Population</th>\n",
       "      <th>Area (km²)</th>\n",
       "      <th>Density (per km²)</th>\n",
       "      <th>Growth Rate</th>\n",
       "      <th>World Population Percentage</th>\n",
       "    </tr>\n",
       "  </thead>\n",
       "  <tbody>\n",
       "    <tr>\n",
       "      <th>0</th>\n",
       "      <td>36</td>\n",
       "      <td>AFG</td>\n",
       "      <td>Afghanistan</td>\n",
       "      <td>Kabul</td>\n",
       "      <td>Asia</td>\n",
       "      <td>41128771</td>\n",
       "      <td>38972230</td>\n",
       "      <td>33753499</td>\n",
       "      <td>28189672</td>\n",
       "      <td>19542982</td>\n",
       "      <td>10694796</td>\n",
       "      <td>12486631</td>\n",
       "      <td>10752971</td>\n",
       "      <td>652230</td>\n",
       "      <td>63.0587</td>\n",
       "      <td>1.0257</td>\n",
       "      <td>0.52</td>\n",
       "    </tr>\n",
       "    <tr>\n",
       "      <th>1</th>\n",
       "      <td>138</td>\n",
       "      <td>ALB</td>\n",
       "      <td>Albania</td>\n",
       "      <td>Tirana</td>\n",
       "      <td>Europe</td>\n",
       "      <td>2842321</td>\n",
       "      <td>2866849</td>\n",
       "      <td>2882481</td>\n",
       "      <td>2913399</td>\n",
       "      <td>3182021</td>\n",
       "      <td>3295066</td>\n",
       "      <td>2941651</td>\n",
       "      <td>2324731</td>\n",
       "      <td>28748</td>\n",
       "      <td>98.8702</td>\n",
       "      <td>0.9957</td>\n",
       "      <td>0.04</td>\n",
       "    </tr>\n",
       "    <tr>\n",
       "      <th>2</th>\n",
       "      <td>34</td>\n",
       "      <td>DZA</td>\n",
       "      <td>Algeria</td>\n",
       "      <td>Algiers</td>\n",
       "      <td>Africa</td>\n",
       "      <td>44903225</td>\n",
       "      <td>43451666</td>\n",
       "      <td>39543154</td>\n",
       "      <td>35856344</td>\n",
       "      <td>30774621</td>\n",
       "      <td>25518074</td>\n",
       "      <td>18739378</td>\n",
       "      <td>13795915</td>\n",
       "      <td>2381741</td>\n",
       "      <td>18.8531</td>\n",
       "      <td>1.0164</td>\n",
       "      <td>0.56</td>\n",
       "    </tr>\n",
       "    <tr>\n",
       "      <th>3</th>\n",
       "      <td>213</td>\n",
       "      <td>ASM</td>\n",
       "      <td>American Samoa</td>\n",
       "      <td>Pago Pago</td>\n",
       "      <td>Oceania</td>\n",
       "      <td>44273</td>\n",
       "      <td>46189</td>\n",
       "      <td>51368</td>\n",
       "      <td>54849</td>\n",
       "      <td>58230</td>\n",
       "      <td>47818</td>\n",
       "      <td>32886</td>\n",
       "      <td>27075</td>\n",
       "      <td>199</td>\n",
       "      <td>222.4774</td>\n",
       "      <td>0.9831</td>\n",
       "      <td>0.00</td>\n",
       "    </tr>\n",
       "    <tr>\n",
       "      <th>4</th>\n",
       "      <td>203</td>\n",
       "      <td>AND</td>\n",
       "      <td>Andorra</td>\n",
       "      <td>Andorra la Vella</td>\n",
       "      <td>Europe</td>\n",
       "      <td>79824</td>\n",
       "      <td>77700</td>\n",
       "      <td>71746</td>\n",
       "      <td>71519</td>\n",
       "      <td>66097</td>\n",
       "      <td>53569</td>\n",
       "      <td>35611</td>\n",
       "      <td>19860</td>\n",
       "      <td>468</td>\n",
       "      <td>170.5641</td>\n",
       "      <td>1.0100</td>\n",
       "      <td>0.00</td>\n",
       "    </tr>\n",
       "    <tr>\n",
       "      <th>...</th>\n",
       "      <td>...</td>\n",
       "      <td>...</td>\n",
       "      <td>...</td>\n",
       "      <td>...</td>\n",
       "      <td>...</td>\n",
       "      <td>...</td>\n",
       "      <td>...</td>\n",
       "      <td>...</td>\n",
       "      <td>...</td>\n",
       "      <td>...</td>\n",
       "      <td>...</td>\n",
       "      <td>...</td>\n",
       "      <td>...</td>\n",
       "      <td>...</td>\n",
       "      <td>...</td>\n",
       "      <td>...</td>\n",
       "      <td>...</td>\n",
       "    </tr>\n",
       "    <tr>\n",
       "      <th>229</th>\n",
       "      <td>226</td>\n",
       "      <td>WLF</td>\n",
       "      <td>Wallis and Futuna</td>\n",
       "      <td>Mata-Utu</td>\n",
       "      <td>Oceania</td>\n",
       "      <td>11572</td>\n",
       "      <td>11655</td>\n",
       "      <td>12182</td>\n",
       "      <td>13142</td>\n",
       "      <td>14723</td>\n",
       "      <td>13454</td>\n",
       "      <td>11315</td>\n",
       "      <td>9377</td>\n",
       "      <td>142</td>\n",
       "      <td>81.4930</td>\n",
       "      <td>0.9953</td>\n",
       "      <td>0.00</td>\n",
       "    </tr>\n",
       "    <tr>\n",
       "      <th>230</th>\n",
       "      <td>172</td>\n",
       "      <td>ESH</td>\n",
       "      <td>Western Sahara</td>\n",
       "      <td>El Aaiún</td>\n",
       "      <td>Africa</td>\n",
       "      <td>575986</td>\n",
       "      <td>556048</td>\n",
       "      <td>491824</td>\n",
       "      <td>413296</td>\n",
       "      <td>270375</td>\n",
       "      <td>178529</td>\n",
       "      <td>116775</td>\n",
       "      <td>76371</td>\n",
       "      <td>266000</td>\n",
       "      <td>2.1654</td>\n",
       "      <td>1.0184</td>\n",
       "      <td>0.01</td>\n",
       "    </tr>\n",
       "    <tr>\n",
       "      <th>231</th>\n",
       "      <td>46</td>\n",
       "      <td>YEM</td>\n",
       "      <td>Yemen</td>\n",
       "      <td>Sanaa</td>\n",
       "      <td>Asia</td>\n",
       "      <td>33696614</td>\n",
       "      <td>32284046</td>\n",
       "      <td>28516545</td>\n",
       "      <td>24743946</td>\n",
       "      <td>18628700</td>\n",
       "      <td>13375121</td>\n",
       "      <td>9204938</td>\n",
       "      <td>6843607</td>\n",
       "      <td>527968</td>\n",
       "      <td>63.8232</td>\n",
       "      <td>1.0217</td>\n",
       "      <td>0.42</td>\n",
       "    </tr>\n",
       "    <tr>\n",
       "      <th>232</th>\n",
       "      <td>63</td>\n",
       "      <td>ZMB</td>\n",
       "      <td>Zambia</td>\n",
       "      <td>Lusaka</td>\n",
       "      <td>Africa</td>\n",
       "      <td>20017675</td>\n",
       "      <td>18927715</td>\n",
       "      <td>16248230</td>\n",
       "      <td>13792086</td>\n",
       "      <td>9891136</td>\n",
       "      <td>7686401</td>\n",
       "      <td>5720438</td>\n",
       "      <td>4281671</td>\n",
       "      <td>752612</td>\n",
       "      <td>26.5976</td>\n",
       "      <td>1.0280</td>\n",
       "      <td>0.25</td>\n",
       "    </tr>\n",
       "    <tr>\n",
       "      <th>233</th>\n",
       "      <td>74</td>\n",
       "      <td>ZWE</td>\n",
       "      <td>Zimbabwe</td>\n",
       "      <td>Harare</td>\n",
       "      <td>Africa</td>\n",
       "      <td>16320537</td>\n",
       "      <td>15669666</td>\n",
       "      <td>14154937</td>\n",
       "      <td>12839771</td>\n",
       "      <td>11834676</td>\n",
       "      <td>10113893</td>\n",
       "      <td>7049926</td>\n",
       "      <td>5202918</td>\n",
       "      <td>390757</td>\n",
       "      <td>41.7665</td>\n",
       "      <td>1.0204</td>\n",
       "      <td>0.20</td>\n",
       "    </tr>\n",
       "  </tbody>\n",
       "</table>\n",
       "<p>234 rows × 17 columns</p>\n",
       "</div>"
      ]
     },
     "execution_count": 469,
     "metadata": {},
     "output_type": "execute_result"
    }
   ],
   "execution_count": 469
  },
  {
   "metadata": {},
   "cell_type": "markdown",
   "source": "The mean is bigger than the trimmed mean, which is bigger than the median.",
   "id": "4932a5af9f427b44"
  },
  {
   "metadata": {},
   "cell_type": "markdown",
   "source": "Mean",
   "id": "b7bc02de561ed73d"
  },
  {
   "metadata": {
    "ExecuteTime": {
     "end_time": "2025-01-24T20:30:07.000202Z",
     "start_time": "2025-01-24T20:30:06.996427Z"
    }
   },
   "cell_type": "code",
   "source": "world_population['2022 Population'].mean()",
   "id": "7139aceb46a95202",
   "outputs": [
    {
     "data": {
      "text/plain": [
       "np.float64(34074414.70940171)"
      ]
     },
     "execution_count": 470,
     "metadata": {},
     "output_type": "execute_result"
    }
   ],
   "execution_count": 470
  },
  {
   "metadata": {},
   "cell_type": "markdown",
   "source": "Trimmed mean",
   "id": "7fa60ad80e5385c"
  },
  {
   "metadata": {
    "ExecuteTime": {
     "end_time": "2025-01-24T20:30:07.048461Z",
     "start_time": "2025-01-24T20:30:07.043925Z"
    }
   },
   "cell_type": "code",
   "source": "trim_mean(world_population['2022 Population'], 0.1)",
   "id": "9c6302305d26f1e0",
   "outputs": [
    {
     "data": {
      "text/plain": [
       "np.float64(11730380.058510639)"
      ]
     },
     "execution_count": 471,
     "metadata": {},
     "output_type": "execute_result"
    }
   ],
   "execution_count": 471
  },
  {
   "metadata": {},
   "cell_type": "markdown",
   "source": "Median",
   "id": "8576ed9a8d12bae"
  },
  {
   "metadata": {},
   "cell_type": "markdown",
   "source": [
    "* The sum of all the values divided by the number of values\n",
    "$$\n",
    "\\text{Mean} = \\frac{\\sum_{i=1}^{n} x_i}{n}\n",
    "$$"
   ],
   "id": "85c5d8f10e0d1cc4"
  },
  {
   "metadata": {
    "ExecuteTime": {
     "end_time": "2025-01-24T20:30:07.115219Z",
     "start_time": "2025-01-24T20:30:07.110885Z"
    }
   },
   "cell_type": "code",
   "source": "world_population['2022 Population'].median()",
   "id": "63b99b5804fa9a42",
   "outputs": [
    {
     "data": {
      "text/plain": [
       "np.float64(5559944.5)"
      ]
     },
     "execution_count": 472,
     "metadata": {},
     "output_type": "execute_result"
    }
   ],
   "execution_count": 472
  },
  {
   "metadata": {},
   "cell_type": "markdown",
   "source": [
    "Weighted mean\n",
    "* It is calculated by multiplying each data value $$ {x_i} $$ and dividing their sum by the sum of the weights.\n",
    "\n"
   ],
   "id": "8c09b53b4b78b63"
  },
  {
   "metadata": {},
   "cell_type": "markdown",
   "source": [
    "$$\n",
    "\\text{Weighted Mean} = \\frac{\\sum_{i=1}^{n} w_i x_i}{\\sum_{i=1}^{n} w_i}\n",
    "$$"
   ],
   "id": "dc5904a276988fa9"
  },
  {
   "metadata": {
    "ExecuteTime": {
     "end_time": "2025-01-24T20:30:07.198527Z",
     "start_time": "2025-01-24T20:30:07.194037Z"
    }
   },
   "cell_type": "code",
   "source": "np.average(world_population['Growth Rate'], weights=world_population['2022 Population'])",
   "id": "90c3ceb19d19775b",
   "outputs": [
    {
     "data": {
      "text/plain": [
       "np.float64(1.0084612707643672)"
      ]
     },
     "execution_count": 473,
     "metadata": {},
     "output_type": "execute_result"
    }
   ],
   "execution_count": 473
  },
  {
   "metadata": {},
   "cell_type": "markdown",
   "source": [
    "Weighted median\n",
    "* The weighted median is a value such that the sum of the weights is equal for the lower and upper halves of the sorted list. The weighted median is robust to outliers.\n",
    "$$\n",
    "\\text{Weighted Average} = \\frac{\\sum_{i=1}^{n} x_i \\cdot w_i}{\\sum_{i=1}^{n} w_i}\n",
    "$$"
   ],
   "id": "e8eb3c6ee77a7f0e"
  },
  {
   "metadata": {
    "ExecuteTime": {
     "end_time": "2025-01-24T20:30:07.258566Z",
     "start_time": "2025-01-24T20:30:07.253826Z"
    }
   },
   "cell_type": "code",
   "source": "wquantiles.median(world_population['Growth Rate'], weights=world_population['2022 Population'])",
   "id": "d03bc59878c2a215",
   "outputs": [
    {
     "data": {
      "text/plain": [
       "np.float64(1.006755382947228)"
      ]
     },
     "execution_count": 474,
     "metadata": {},
     "output_type": "execute_result"
    }
   ],
   "execution_count": 474
  },
  {
   "metadata": {},
   "cell_type": "markdown",
   "source": [
    "Standard Deviation\n",
    "* The estimates of location and the observed data, showing how dispersed the data is around the central value.\n",
    "$$\n",
    "s = \\sqrt{\\frac{1}{n-1} \\sum_{i=1}^{n} (x_i - \\bar{x})^2}\n",
    "$$"
   ],
   "id": "1443a159520fb205"
  },
  {
   "metadata": {
    "ExecuteTime": {
     "end_time": "2025-01-24T20:30:07.310902Z",
     "start_time": "2025-01-24T20:30:07.306859Z"
    }
   },
   "cell_type": "code",
   "source": "world_population['2022 Population'].std()",
   "id": "fa523d091ff69a13",
   "outputs": [
    {
     "data": {
      "text/plain": [
       "np.float64(136766424.80476278)"
      ]
     },
     "execution_count": 475,
     "metadata": {},
     "output_type": "execute_result"
    }
   ],
   "execution_count": 475
  },
  {
   "metadata": {},
   "cell_type": "markdown",
   "source": [
    "Interquantile Range\n",
    "* Common measure of variability is the differnce between the 25th percentile and the 75th percentile, the interquartile range is the differnce between the two of them.\n",
    "$$\n",
    "\\text{IQR} = Q_3 - Q_1\n",
    "$$"
   ],
   "id": "4dd98505d467b1ea"
  },
  {
   "metadata": {
    "ExecuteTime": {
     "end_time": "2025-01-24T20:30:07.365022Z",
     "start_time": "2025-01-24T20:30:07.358693Z"
    }
   },
   "cell_type": "code",
   "source": "world_population['2022 Population'].quantile(0.75) - world_population['2022 Population'].quantile(0.25)",
   "id": "6887edff7a0998fe",
   "outputs": [
    {
     "data": {
      "text/plain": [
       "np.float64(22056766.25)"
      ]
     },
     "execution_count": 476,
     "metadata": {},
     "output_type": "execute_result"
    }
   ],
   "execution_count": 476
  },
  {
   "metadata": {},
   "cell_type": "markdown",
   "source": [
    "* A robust estimate of variability is the median absolute deviation from the median.\n",
    "$$\n",
    "\\operatorname{MAD} = \\operatorname{median}(|X_i - \\tilde{X}|)\n",
    "$$"
   ],
   "id": "bcec1037398a450d"
  },
  {
   "metadata": {
    "ExecuteTime": {
     "end_time": "2025-01-24T20:30:07.418183Z",
     "start_time": "2025-01-24T20:30:07.412374Z"
    }
   },
   "cell_type": "code",
   "source": "mad(world_population['2022 Population'])",
   "id": "75c71f759fdab718",
   "outputs": [
    {
     "data": {
      "text/plain": [
       "np.float64(8121358.402270087)"
      ]
     },
     "execution_count": 477,
     "metadata": {},
     "output_type": "execute_result"
    }
   ],
   "execution_count": 477
  },
  {
   "metadata": {},
   "cell_type": "markdown",
   "source": "* The standard deviation is almost twice as large as the median absolute deviation, also the standard deviation is sensitive to outliers.",
   "id": "8d8ae9a97c6ca684"
  },
  {
   "metadata": {},
   "cell_type": "markdown",
   "source": "Percentiles",
   "id": "e1409b3207fc9992"
  },
  {
   "metadata": {
    "ExecuteTime": {
     "end_time": "2025-01-24T20:30:07.471422Z",
     "start_time": "2025-01-24T20:30:07.466782Z"
    }
   },
   "cell_type": "code",
   "source": "world_population['Growth Rate'].quantile([0.05, 0.25, 0.5, 0.75, 0.95])",
   "id": "d5da2d308e394ed4",
   "outputs": [
    {
     "data": {
      "text/plain": [
       "0.05    0.994030\n",
       "0.25    1.001775\n",
       "0.50    1.007900\n",
       "0.75    1.016950\n",
       "0.95    1.030140\n",
       "Name: Growth Rate, dtype: float64"
      ]
     },
     "execution_count": 478,
     "metadata": {},
     "output_type": "execute_result"
    }
   ],
   "execution_count": 478
  },
  {
   "metadata": {},
   "cell_type": "markdown",
   "source": "Boxplots",
   "id": "72847288bf7a03c1"
  },
  {
   "metadata": {
    "ExecuteTime": {
     "end_time": "2025-01-24T20:30:07.545542Z",
     "start_time": "2025-01-24T20:30:07.543414Z"
    }
   },
   "cell_type": "code",
   "source": [
    "max_score = world_population['2022 Population'].max()\n",
    "print(\"Maximum score:\", max_score)"
   ],
   "id": "9e273f871afa7602",
   "outputs": [
    {
     "name": "stdout",
     "output_type": "stream",
     "text": [
      "Maximum score: 1425887337\n"
     ]
    }
   ],
   "execution_count": 479
  },
  {
   "metadata": {
    "ExecuteTime": {
     "end_time": "2025-01-24T20:30:07.655099Z",
     "start_time": "2025-01-24T20:30:07.594146Z"
    }
   },
   "cell_type": "code",
   "source": [
    "ax = (world_population['2022 Population']/1000000000).plot.box()\n",
    "ax.set_ylabel('2022 Population Distribution')"
   ],
   "id": "4a884080535b07f7",
   "outputs": [
    {
     "data": {
      "text/plain": [
       "Text(0, 0.5, '2022 Population Distribution')"
      ]
     },
     "execution_count": 480,
     "metadata": {},
     "output_type": "execute_result"
    },
    {
     "data": {
      "text/plain": [
       "<Figure size 640x480 with 1 Axes>"
      ],
      "image/png": "[encoded data removed]"
     },
     "metadata": {},
     "output_type": "display_data"
    }
   ],
   "execution_count": 480
  },
  {
   "metadata": {},
   "cell_type": "markdown",
   "source": [
    "* The median world population in 2022 was approximately 100.000.000.\n",
    "* The data outside the whiskers are considered outliers."
   ],
   "id": "6e2b061af5062650"
  },
  {
   "metadata": {},
   "cell_type": "markdown",
   "source": "* Frequency table and Histograms",
   "id": "392564cd3136d1ca"
  },
  {
   "metadata": {
    "ExecuteTime": {
     "end_time": "2025-01-24T20:30:07.691999Z",
     "start_time": "2025-01-24T20:30:07.682253Z"
    }
   },
   "cell_type": "code",
   "source": [
    "segment_population = pd.cut(world_population['2022 Population'], 10)\n",
    "segment_population.value_counts()"
   ],
   "id": "a623b4c392a5ee09",
   "outputs": [
    {
     "data": {
      "text/plain": [
       "2022 Population\n",
       "(-1425376.827, 142589192.7]     225\n",
       "(142589192.7, 285177875.4]        6\n",
       "(1283298654.3, 1425887337.0]      2\n",
       "(285177875.4, 427766558.1]        1\n",
       "(570355240.8, 712943923.5]        0\n",
       "(427766558.1, 570355240.8]        0\n",
       "(712943923.5, 855532606.2]        0\n",
       "(855532606.2, 998121288.9]        0\n",
       "(998121288.9, 1140709971.6]       0\n",
       "(1140709971.6, 1283298654.3]      0\n",
       "Name: count, dtype: int64"
      ]
     },
     "execution_count": 481,
     "metadata": {},
     "output_type": "execute_result"
    }
   ],
   "execution_count": 481
  },
  {
   "metadata": {},
   "cell_type": "markdown",
   "source": "* There are at least 225 countries at the first range, which the width is equivalent to 142588682.7 for each of the 10 bins.",
   "id": "a3a32854363625a5"
  },
  {
   "metadata": {
    "ExecuteTime": {
     "end_time": "2025-01-24T20:30:07.762632Z",
     "start_time": "2025-01-24T20:30:07.759641Z"
    }
   },
   "cell_type": "code",
   "source": [
    "difference = 285177875.4 - 142589192.7\n",
    "print(difference)"
   ],
   "id": "be51117c6e47834b",
   "outputs": [
    {
     "name": "stdout",
     "output_type": "stream",
     "text": [
      "142588682.7\n"
     ]
    }
   ],
   "execution_count": 482
  },
  {
   "metadata": {},
   "cell_type": "markdown",
   "source": "* This is the difference between the most populous country and the least one.",
   "id": "21abda6c86faed72"
  },
  {
   "metadata": {
    "ExecuteTime": {
     "end_time": "2025-01-24T20:30:07.810982Z",
     "start_time": "2025-01-24T20:30:07.807783Z"
    }
   },
   "cell_type": "code",
   "source": [
    "difference = 427766558.1 - 142589192.7\n",
    "print(difference)"
   ],
   "id": "6b02cf61fce11ed0",
   "outputs": [
    {
     "name": "stdout",
     "output_type": "stream",
     "text": [
      "285177365.40000004\n"
     ]
    }
   ],
   "execution_count": 483
  },
  {
   "metadata": {
    "ExecuteTime": {
     "end_time": "2025-01-24T20:30:07.948849Z",
     "start_time": "2025-01-24T20:30:07.858858Z"
    }
   },
   "cell_type": "code",
   "source": [
    "ax = (world_population['2022 Population']/ 1000000000).plot.hist(bins=10)\n",
    "ax.set_ylabel('2022 Population Distribution')"
   ],
   "id": "f18dcbc7d8cd850f",
   "outputs": [
    {
     "data": {
      "text/plain": [
       "Text(0, 0.5, '2022 Population Distribution')"
      ]
     },
     "execution_count": 484,
     "metadata": {},
     "output_type": "execute_result"
    },
    {
     "data": {
      "text/plain": [
       "<Figure size 640x480 with 1 Axes>"
      ],
      "image/png": "[encoded data removed]"
     },
     "metadata": {},
     "output_type": "display_data"
    }
   ],
   "execution_count": 484
  },
  {
   "metadata": {},
   "cell_type": "markdown",
   "source": "Density Plots and estimates",
   "id": "c0e329227b7df80c"
  },
  {
   "metadata": {
    "ExecuteTime": {
     "end_time": "2025-01-24T20:30:08.081035Z",
     "start_time": "2025-01-24T20:30:07.963016Z"
    }
   },
   "cell_type": "code",
   "source": [
    "ax = world_population['Growth Rate'].plot.hist(density=True, xlim=[0,12], bins=range(1, 12))\n",
    "world_population['Growth Rate'].plot.density(ax=ax)\n",
    "ax.set_xlabel('Growth Rate')"
   ],
   "id": "ce497491c8ac76e1",
   "outputs": [
    {
     "data": {
      "text/plain": [
       "Text(0.5, 0, 'Growth Rate')"
      ]
     },
     "execution_count": 485,
     "metadata": {},
     "output_type": "execute_result"
    },
    {
     "data": {
      "text/plain": [
       "<Figure size 640x480 with 1 Axes>"
      ],
      "image/png": "[encoded data removed]"
     },
     "metadata": {},
     "output_type": "display_data"
    }
   ],
   "execution_count": 485
  },
  {
   "metadata": {},
   "cell_type": "markdown",
   "source": "Binary and Categorical Data",
   "id": "74ae497bd7f84842"
  },
  {
   "metadata": {
    "ExecuteTime": {
     "end_time": "2025-01-24T20:30:08.108483Z",
     "start_time": "2025-01-24T20:30:08.104410Z"
    }
   },
   "cell_type": "code",
   "source": "world_population.columns",
   "id": "18a876f4b458859c",
   "outputs": [
    {
     "data": {
      "text/plain": [
       "Index(['Rank', 'CCA3', 'Country/Territory', 'Capital', 'Continent',\n",
       "       '2022 Population', '2020 Population', '2015 Population',\n",
       "       '2010 Population', '2000 Population', '1990 Population',\n",
       "       '1980 Population', '1970 Population', 'Area (km²)', 'Density (per km²)',\n",
       "       'Growth Rate', 'World Population Percentage'],\n",
       "      dtype='object')"
      ]
     },
     "execution_count": 486,
     "metadata": {},
     "output_type": "execute_result"
    }
   ],
   "execution_count": 486
  },
  {
   "metadata": {
    "ExecuteTime": {
     "end_time": "2025-01-24T20:30:08.256869Z",
     "start_time": "2025-01-24T20:30:08.249469Z"
    }
   },
   "cell_type": "code",
   "source": [
    "largest_populations = world_population.sort_values(by='2022 Population', ascending=False)\n",
    "top_5 = largest_populations.head(5)\n",
    "top_5 = top_5.drop(['Rank', 'CCA3', 'Country/Territory',\n",
    "                     'Capital', 'Continent', 'Area (km²)',\n",
    "                     'Density (per km²)', 'Growth Rate',\n",
    "                     'World Population Percentage'], axis=1)\n",
    "top_5"
   ],
   "id": "6923035aac0363ce",
   "outputs": [
    {
     "data": {
      "text/plain": [
       "     2022 Population  2020 Population  2015 Population  2010 Population  \\\n",
       "41        1425887337       1424929781       1393715448       1348191368   \n",
       "92        1417173173       1396387127       1322866505       1240613620   \n",
       "221        338289857        335942003        324607776        311182845   \n",
       "93         275501339        271857970        259091970        244016173   \n",
       "156        235824862        227196741        210969298        194454498   \n",
       "\n",
       "     2000 Population  1990 Population  1980 Population  1970 Population  \n",
       "41        1264099069       1153704252        982372466        822534450  \n",
       "92        1059633675        870452165        696828385        557501301  \n",
       "221        282398554        248083732        223140018        200328340  \n",
       "93         214072421        182159874        148177096        115228394  \n",
       "156        154369924        115414069         80624057         59290872  "
      ],
      "text/html": [
       "<div>\n",
       "<style scoped>\n",
       "    .dataframe tbody tr th:only-of-type {\n",
       "        vertical-align: middle;\n",
       "    }\n",
       "\n",
       "    .dataframe tbody tr th {\n",
       "        vertical-align: top;\n",
       "    }\n",
       "\n",
       "    .dataframe thead th {\n",
       "        text-align: right;\n",
       "    }\n",
       "</style>\n",
       "<table border=\"1\" class=\"dataframe\">\n",
       "  <thead>\n",
       "    <tr style=\"text-align: right;\">\n",
       "      <th></th>\n",
       "      <th>2022 Population</th>\n",
       "      <th>2020 Population</th>\n",
       "      <th>2015 Population</th>\n",
       "      <th>2010 Population</th>\n",
       "      <th>2000 Population</th>\n",
       "      <th>1990 Population</th>\n",
       "      <th>1980 Population</th>\n",
       "      <th>1970 Population</th>\n",
       "    </tr>\n",
       "  </thead>\n",
       "  <tbody>\n",
       "    <tr>\n",
       "      <th>41</th>\n",
       "      <td>1425887337</td>\n",
       "      <td>1424929781</td>\n",
       "      <td>1393715448</td>\n",
       "      <td>1348191368</td>\n",
       "      <td>1264099069</td>\n",
       "      <td>1153704252</td>\n",
       "      <td>982372466</td>\n",
       "      <td>822534450</td>\n",
       "    </tr>\n",
       "    <tr>\n",
       "      <th>92</th>\n",
       "      <td>1417173173</td>\n",
       "      <td>1396387127</td>\n",
       "      <td>1322866505</td>\n",
       "      <td>1240613620</td>\n",
       "      <td>1059633675</td>\n",
       "      <td>870452165</td>\n",
       "      <td>696828385</td>\n",
       "      <td>557501301</td>\n",
       "    </tr>\n",
       "    <tr>\n",
       "      <th>221</th>\n",
       "      <td>338289857</td>\n",
       "      <td>335942003</td>\n",
       "      <td>324607776</td>\n",
       "      <td>311182845</td>\n",
       "      <td>282398554</td>\n",
       "      <td>248083732</td>\n",
       "      <td>223140018</td>\n",
       "      <td>200328340</td>\n",
       "    </tr>\n",
       "    <tr>\n",
       "      <th>93</th>\n",
       "      <td>275501339</td>\n",
       "      <td>271857970</td>\n",
       "      <td>259091970</td>\n",
       "      <td>244016173</td>\n",
       "      <td>214072421</td>\n",
       "      <td>182159874</td>\n",
       "      <td>148177096</td>\n",
       "      <td>115228394</td>\n",
       "    </tr>\n",
       "    <tr>\n",
       "      <th>156</th>\n",
       "      <td>235824862</td>\n",
       "      <td>227196741</td>\n",
       "      <td>210969298</td>\n",
       "      <td>194454498</td>\n",
       "      <td>154369924</td>\n",
       "      <td>115414069</td>\n",
       "      <td>80624057</td>\n",
       "      <td>59290872</td>\n",
       "    </tr>\n",
       "  </tbody>\n",
       "</table>\n",
       "</div>"
      ]
     },
     "execution_count": 487,
     "metadata": {},
     "output_type": "execute_result"
    }
   ],
   "execution_count": 487
  },
  {
   "metadata": {
    "ExecuteTime": {
     "end_time": "2025-01-24T20:30:08.423939Z",
     "start_time": "2025-01-24T20:30:08.329067Z"
    }
   },
   "cell_type": "code",
   "source": [
    "ax = top_5.transpose().plot.bar(figsize=(6,6), legend=False)\n",
    "ax.set_xlabel('Largest Populations Distribution by Year (Trillions)')\n",
    "ax.set_ylabel('Count')"
   ],
   "id": "f662400f6ac088e6",
   "outputs": [
    {
     "data": {
      "text/plain": [
       "Text(0, 0.5, 'Count')"
      ]
     },
     "execution_count": 488,
     "metadata": {},
     "output_type": "execute_result"
    },
    {
     "data": {
      "text/plain": [
       "<Figure size 600x600 with 1 Axes>"
      ],
      "image/png": "[encoded data removed]"
     },
     "metadata": {},
     "output_type": "display_data"
    }
   ],
   "execution_count": 488
  },
  {
   "metadata": {
    "ExecuteTime": {
     "end_time": "2025-01-24T20:30:08.470548Z",
     "start_time": "2025-01-24T20:30:08.468389Z"
    }
   },
   "cell_type": "code",
   "source": "",
   "id": "7c9ddd0a43ed3160",
   "outputs": [],
   "execution_count": null
  }
 ],
 "metadata": {
  "kernelspec": {
   "display_name": "Python 3",
   "language": "python",
   "name": "python3"
  },
  "language_info": {
   "codemirror_mode": {
    "name": "ipython",
    "version": 2
   },
   "file_extension": ".py",
   "mimetype": "text/x-python",
   "name": "python",
   "nbconvert_exporter": "python",
   "pygments_lexer": "ipython2",
   "version": "2.7.6"
  }
 },
 "nbformat": 4,
 "nbformat_minor": 5
}
