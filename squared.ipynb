{
  "nbformat": 4,
  "nbformat_minor": 0,
  "metadata": {
    "colab": {
      "provenance": [],
      "authorship_tag": "ABX9TyMt7surK4yWeY1clXNdpufs",
      "include_colab_link": true
    },
    "kernelspec": {
      "name": "python3",
      "display_name": "Python 3"
    },
    "language_info": {
      "name": "python"
    }
  },
  "cells": [
    {
      "cell_type": "markdown",
      "metadata": {
        "id": "view-in-github",
        "colab_type": "text"
      },
      "source": [
        "<a href=\"https://colab.research.google.com/github/lucaspinheiro27/Python_statistics/blob/main/squared.ipynb\" target=\"_parent\"><img src=\"https://colab.research.google.com/assets/colab-badge.svg\" alt=\"Open In Colab\"/></a>"
      ]
    },
    {
      "cell_type": "markdown",
      "source": [
        "# Squared Numbers"
      ],
      "metadata": {
        "id": "fpPJWgU1aTSg"
      }
    },
    {
      "cell_type": "code",
      "execution_count": null,
      "metadata": {
        "colab": {
          "base_uri": "https://localhost:8080/"
        },
        "id": "oFnJKlxzZSzm",
        "outputId": "ce098b50-007a-499b-b7e3-ebf2ba178991"
      },
      "outputs": [
        {
          "output_type": "stream",
          "name": "stdout",
          "text": [
            "0 0\n",
            "1 1\n",
            "2 4\n",
            "3 9\n",
            "4 16\n",
            "5 25\n",
            "Done\n"
          ]
        }
      ],
      "source": [
        "def squared (x):\n",
        "  return x**2\n",
        "\n",
        "for ii in range(6):\n",
        "  print(ii, squared(ii))\n",
        "\n",
        "print(\"Done\")"
      ]
    },
    {
      "cell_type": "markdown",
      "source": [
        "# Python data structures"
      ],
      "metadata": {
        "id": "vHVBU7LOaOh3"
      }
    },
    {
      "cell_type": "markdown",
      "source": [
        "* Tuple( )"
      ],
      "metadata": {
        "id": "OJP1YkXPbffk"
      }
    },
    {
      "cell_type": "code",
      "source": [
        "import numpy as np\n",
        "# Tuples are immutable\n",
        "#           0            1             2\n",
        "mytuple = ('abc', np.arange(0,3,0.2), 2.5)\n",
        "\n",
        "mytuple[2]"
      ],
      "metadata": {
        "colab": {
          "base_uri": "https://localhost:8080/"
        },
        "id": "Itl-WPaeZydN",
        "outputId": "cb96b156-ccae-4f80-fef4-dd381b9cd616"
      },
      "execution_count": null,
      "outputs": [
        {
          "output_type": "execute_result",
          "data": {
            "text/plain": [
              "2.5"
            ]
          },
          "metadata": {},
          "execution_count": 2
        }
      ]
    },
    {
      "cell_type": "markdown",
      "source": [
        "* Lists [ ]"
      ],
      "metadata": {
        "id": "M2GXmT6Jbhlt"
      }
    },
    {
      "cell_type": "code",
      "source": [
        "mylist = ['abc', 'def', 'ghij']\n",
        "\n",
        "mylist.append('klm')\n",
        "\n",
        "print(mylist)"
      ],
      "metadata": {
        "colab": {
          "base_uri": "https://localhost:8080/"
        },
        "id": "18DxRCVEbD_Q",
        "outputId": "7f45f853-29df-46eb-ca20-3e6262b3c34f"
      },
      "execution_count": null,
      "outputs": [
        {
          "output_type": "stream",
          "name": "stdout",
          "text": [
            "['abc', 'def', 'ghij', 'klm']\n"
          ]
        }
      ]
    },
    {
      "cell_type": "code",
      "source": [
        "mylist2 = [1,2,3]\n",
        "mylist3 = [4,5,6]\n",
        "\n",
        "mylist2 + mylist3"
      ],
      "metadata": {
        "colab": {
          "base_uri": "https://localhost:8080/"
        },
        "id": "3daNvK_Ab_L9",
        "outputId": "f2824892-0b4e-446c-89f1-4746b440e169"
      },
      "execution_count": null,
      "outputs": [
        {
          "output_type": "execute_result",
          "data": {
            "text/plain": [
              "[1, 2, 3, 4, 5, 6]"
            ]
          },
          "metadata": {},
          "execution_count": 4
        }
      ]
    },
    {
      "cell_type": "markdown",
      "source": [
        "* Array[ ]"
      ],
      "metadata": {
        "id": "CJJO1LRTcMXO"
      }
    },
    {
      "cell_type": "code",
      "source": [
        "myarray2 = np.array(mylist2)\n",
        "myarray3 = np.array(mylist3)\n",
        "\n",
        "myarray2 + myarray3"
      ],
      "metadata": {
        "colab": {
          "base_uri": "https://localhost:8080/"
        },
        "id": "F0KHEbHUcG2x",
        "outputId": "a43abb1d-7667-4ff2-8dd6-acaf446a0214"
      },
      "execution_count": null,
      "outputs": [
        {
          "output_type": "execute_result",
          "data": {
            "text/plain": [
              "array([5, 7, 9])"
            ]
          },
          "metadata": {},
          "execution_count": 5
        }
      ]
    },
    {
      "cell_type": "code",
      "source": [
        "myarray2.dot(myarray3)"
      ],
      "metadata": {
        "colab": {
          "base_uri": "https://localhost:8080/"
        },
        "id": "9opl3s3jchgf",
        "outputId": "9adc74b3-8adb-47b1-de89-176b0b509249"
      },
      "execution_count": null,
      "outputs": [
        {
          "output_type": "execute_result",
          "data": {
            "text/plain": [
              "32"
            ]
          },
          "metadata": {},
          "execution_count": 6
        }
      ]
    },
    {
      "cell_type": "markdown",
      "source": [
        "* Dictionary { }"
      ],
      "metadata": {
        "id": "FBJzazGTewGg"
      }
    },
    {
      "cell_type": "code",
      "source": [
        "mydict = dict(one=1, two=2, info='some information')\n",
        "mydict2 = {'ten':1, 'twenty':20, 'info':'more information'}"
      ],
      "metadata": {
        "id": "Pf9EZJlIdakW"
      },
      "execution_count": null,
      "outputs": []
    },
    {
      "cell_type": "code",
      "source": [
        "mydict['info']"
      ],
      "metadata": {
        "colab": {
          "base_uri": "https://localhost:8080/",
          "height": 35
        },
        "id": "OC3PLyErfXq3",
        "outputId": "7b6dd640-3e2d-4c6c-c40e-5547ede034bb"
      },
      "execution_count": null,
      "outputs": [
        {
          "output_type": "execute_result",
          "data": {
            "text/plain": [
              "'some information'"
            ],
            "application/vnd.google.colaboratory.intrinsic+json": {
              "type": "string"
            }
          },
          "metadata": {},
          "execution_count": 8
        }
      ]
    },
    {
      "cell_type": "code",
      "source": [
        "mydict.keys()"
      ],
      "metadata": {
        "colab": {
          "base_uri": "https://localhost:8080/"
        },
        "id": "y-rUiJoDfcDT",
        "outputId": "57d695b5-8eb7-4a08-893d-443f2aa9c90e"
      },
      "execution_count": null,
      "outputs": [
        {
          "output_type": "execute_result",
          "data": {
            "text/plain": [
              "dict_keys(['one', 'two', 'info'])"
            ]
          },
          "metadata": {},
          "execution_count": 9
        }
      ]
    },
    {
      "cell_type": "markdown",
      "source": [
        "* Vectors and Arrays"
      ],
      "metadata": {
        "id": "xAtO40U9fpkF"
      }
    },
    {
      "cell_type": "code",
      "source": [
        "np.zeros(3)"
      ],
      "metadata": {
        "colab": {
          "base_uri": "https://localhost:8080/"
        },
        "id": "z9laIaZqffR0",
        "outputId": "e31779ba-3016-41aa-aba7-89428dd87fa7"
      },
      "execution_count": null,
      "outputs": [
        {
          "output_type": "execute_result",
          "data": {
            "text/plain": [
              "array([0., 0., 0.])"
            ]
          },
          "metadata": {},
          "execution_count": 10
        }
      ]
    },
    {
      "cell_type": "code",
      "source": [
        "np.zeros((2,3))"
      ],
      "metadata": {
        "colab": {
          "base_uri": "https://localhost:8080/"
        },
        "id": "l2zbwRTwgjYI",
        "outputId": "cc2bfe67-f853-403b-cdad-41b29511ac28"
      },
      "execution_count": null,
      "outputs": [
        {
          "output_type": "execute_result",
          "data": {
            "text/plain": [
              "array([[0., 0., 0.],\n",
              "       [0., 0., 0.]])"
            ]
          },
          "metadata": {},
          "execution_count": 11
        }
      ]
    },
    {
      "cell_type": "code",
      "source": [
        "np.arange(3)"
      ],
      "metadata": {
        "colab": {
          "base_uri": "https://localhost:8080/"
        },
        "id": "l7ZjSR4KgmqN",
        "outputId": "5b6c77bb-6abd-4187-ba5b-b9e5a5170e83"
      },
      "execution_count": null,
      "outputs": [
        {
          "output_type": "execute_result",
          "data": {
            "text/plain": [
              "array([0, 1, 2])"
            ]
          },
          "metadata": {},
          "execution_count": 12
        }
      ]
    },
    {
      "cell_type": "code",
      "source": [
        "#         s e  si\n",
        "np.arange(1,3,0.5)"
      ],
      "metadata": {
        "colab": {
          "base_uri": "https://localhost:8080/"
        },
        "id": "RayjurdGgzYP",
        "outputId": "cd3ef995-a40a-48af-bbcf-706f4be3b65f"
      },
      "execution_count": null,
      "outputs": [
        {
          "output_type": "execute_result",
          "data": {
            "text/plain": [
              "array([1. , 1.5, 2. , 2.5])"
            ]
          },
          "metadata": {},
          "execution_count": 13
        }
      ]
    },
    {
      "cell_type": "code",
      "source": [
        "xlow = np.arange(0,3, 0.5)\n",
        "xhigh = np.arange(3,5,0.5)"
      ],
      "metadata": {
        "id": "pYz5Wy9Fg3kh"
      },
      "execution_count": null,
      "outputs": []
    },
    {
      "cell_type": "code",
      "source": [
        "xlow"
      ],
      "metadata": {
        "colab": {
          "base_uri": "https://localhost:8080/"
        },
        "id": "GG7M6jQvhSW5",
        "outputId": "03ce1215-70b6-4f87-c262-ae5e9dca7826"
      },
      "execution_count": null,
      "outputs": [
        {
          "output_type": "execute_result",
          "data": {
            "text/plain": [
              "array([0. , 0.5, 1. , 1.5, 2. , 2.5])"
            ]
          },
          "metadata": {},
          "execution_count": 15
        }
      ]
    },
    {
      "cell_type": "code",
      "source": [
        "xhigh"
      ],
      "metadata": {
        "colab": {
          "base_uri": "https://localhost:8080/"
        },
        "id": "08-xszu9hT5I",
        "outputId": "268efb33-c194-4693-eae0-24ae49eb8b77"
      },
      "execution_count": null,
      "outputs": [
        {
          "output_type": "execute_result",
          "data": {
            "text/plain": [
              "array([3. , 3.5, 4. , 4.5])"
            ]
          },
          "metadata": {},
          "execution_count": 16
        }
      ]
    },
    {
      "cell_type": "code",
      "source": [
        "np.linspace(0,10,6)"
      ],
      "metadata": {
        "colab": {
          "base_uri": "https://localhost:8080/"
        },
        "id": "qWpBt0OzhVMj",
        "outputId": "6c198e9e-c5c5-4d98-9663-c162fa1b2626"
      },
      "execution_count": null,
      "outputs": [
        {
          "output_type": "execute_result",
          "data": {
            "text/plain": [
              "array([ 0.,  2.,  4.,  6.,  8., 10.])"
            ]
          },
          "metadata": {},
          "execution_count": 17
        }
      ]
    },
    {
      "cell_type": "code",
      "source": [
        "np.array([[1,2], [3,4]])"
      ],
      "metadata": {
        "id": "Ds-M6b1RhcRm",
        "colab": {
          "base_uri": "https://localhost:8080/"
        },
        "outputId": "918a29eb-2f9b-4f2a-bcda-5ff31cef181e"
      },
      "execution_count": null,
      "outputs": [
        {
          "output_type": "execute_result",
          "data": {
            "text/plain": [
              "array([[1, 2],\n",
              "       [3, 4]])"
            ]
          },
          "metadata": {},
          "execution_count": 18
        }
      ]
    },
    {
      "cell_type": "code",
      "source": [
        "Amat = np.array([[1,2],\n",
        "                 [3,4]])"
      ],
      "metadata": {
        "id": "ihy714cBT3Aa"
      },
      "execution_count": null,
      "outputs": []
    },
    {
      "cell_type": "code",
      "source": [
        "Amat[0] #first row only"
      ],
      "metadata": {
        "colab": {
          "base_uri": "https://localhost:8080/"
        },
        "id": "6WzpJhvxUFD1",
        "outputId": "ef32df8d-cdcf-4444-87b3-be465626c817"
      },
      "execution_count": null,
      "outputs": [
        {
          "output_type": "execute_result",
          "data": {
            "text/plain": [
              "array([1, 2])"
            ]
          },
          "metadata": {},
          "execution_count": 20
        }
      ]
    },
    {
      "cell_type": "code",
      "source": [
        "x = np.arange(3)\n",
        "Amat = np.array([[1,2], [3,4]])"
      ],
      "metadata": {
        "id": "aOgoZuAVUHLf"
      },
      "execution_count": null,
      "outputs": []
    },
    {
      "cell_type": "code",
      "source": [
        "x.T == x"
      ],
      "metadata": {
        "colab": {
          "base_uri": "https://localhost:8080/"
        },
        "id": "HXScfp5NUY3P",
        "outputId": "386bf770-79b1-46cb-eefa-841b9d70ea21"
      },
      "execution_count": null,
      "outputs": [
        {
          "output_type": "execute_result",
          "data": {
            "text/plain": [
              "array([ True,  True,  True])"
            ]
          },
          "metadata": {},
          "execution_count": 22
        }
      ]
    },
    {
      "cell_type": "code",
      "source": [
        "Amat.T == Amat"
      ],
      "metadata": {
        "colab": {
          "base_uri": "https://localhost:8080/"
        },
        "id": "Cp96kFafUg1H",
        "outputId": "6fb01fba-3ac8-4763-dc57-387f991f2060"
      },
      "execution_count": null,
      "outputs": [
        {
          "output_type": "execute_result",
          "data": {
            "text/plain": [
              "array([[ True, False],\n",
              "       [False,  True]])"
            ]
          },
          "metadata": {},
          "execution_count": 23
        }
      ]
    },
    {
      "cell_type": "markdown",
      "source": [
        "# Functions"
      ],
      "metadata": {
        "id": "iG2F-5X7Y_SE"
      }
    },
    {
      "cell_type": "code",
      "source": [
        "#Definindo a função\n",
        "def incomeandexpenses(data):\n",
        "\n",
        "#A soma dos dados não pode ser menor ou igual zero\n",
        "  income = np.sum(data[data>0])\n",
        "#A soma dos dados tem que ser menor ou igual a zero\n",
        "  expenses = np.sum(data[data<0])\n",
        "#retorna a função\n",
        "  return (income, expenses)\n",
        "\n",
        "#solução para evitar erro de importação de módulos\n",
        "if __name__=='__main__':\n",
        "  testData = np.array([-5, 12, 3, -6, -4, 8])\n",
        "#Verifica se a primeira transação foi uma perda de faz um delete\n",
        "  if testData[0] < 0:\n",
        "    print('Yout first transaction was a loss, and will be dropped')\n",
        "    testData = np.delete(testData, 0)\n",
        "  else:\n",
        "    print('Congratulations: Your first transaction was a gain!')\n",
        "#se for ganho ele printa, em seguida ele adiciona em outras duas variáveis de acordo com os dados testes\n",
        "  (myincome, myexpenses) = incomeandexpenses(testData)\n",
        "  print('You have earned {0:5.2f} EUR, and spent {1:5.2f} EUR.'.format(myincome, -myexpenses))"
      ],
      "metadata": {
        "colab": {
          "base_uri": "https://localhost:8080/"
        },
        "id": "ucNC_8SiX4eO",
        "outputId": "b5512755-ea0a-4535-9da9-927224490335"
      },
      "execution_count": null,
      "outputs": [
        {
          "output_type": "stream",
          "name": "stdout",
          "text": [
            "Yout first transaction was a loss, and will be dropped\n",
            "You have earned 23.00 EUR, and spent 10.00 EUR.\n"
          ]
        }
      ]
    },
    {
      "cell_type": "code",
      "source": [],
      "metadata": {
        "id": "ZRDGwXCOk8Gq"
      },
      "execution_count": null,
      "outputs": []
    }
  ]
}